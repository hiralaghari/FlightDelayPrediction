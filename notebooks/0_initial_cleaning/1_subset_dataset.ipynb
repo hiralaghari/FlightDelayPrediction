{
 "cells": [
  {
   "cell_type": "markdown",
   "id": "1d8b112d-5582-4d31-81f2-60efc6a403cb",
   "metadata": {},
   "source": [
    "## Imports"
   ]
  },
  {
   "cell_type": "code",
   "execution_count": 1,
   "id": "c8472e1d-658d-4889-9856-27aa7c731f98",
   "metadata": {},
   "outputs": [],
   "source": [
    "import pandas as pd\n",
    "import numpy as np\n",
    "import os\n",
    "import pyspark\n",
    "from pyspark.sql import SparkSession"
   ]
  },
  {
   "cell_type": "markdown",
   "id": "8f890bed-8717-4bb1-89be-74571f07f35d",
   "metadata": {},
   "source": [
    "### Spark Session"
   ]
  },
  {
   "cell_type": "code",
   "execution_count": 2,
   "id": "b4e72559-1448-4231-b174-b1f5267945f2",
   "metadata": {},
   "outputs": [
    {
     "name": "stdout",
     "output_type": "stream",
     "text": [
      "22/10/17 19:33:30 WARN Utils: Your hostname, SPMBP136.local resolves to a loopback address: 127.0.0.1; using 192.168.0.107 instead (on interface en6)\n",
      "22/10/17 19:33:30 WARN Utils: Set SPARK_LOCAL_IP if you need to bind to another address\n",
      "22/10/17 19:33:30 WARN NativeCodeLoader: Unable to load native-hadoop library for your platform... using builtin-java classes where applicable\n"
     ]
    },
    {
     "name": "stderr",
     "output_type": "stream",
     "text": [
      "Setting default log level to \"WARN\".\n",
      "To adjust logging level use sc.setLogLevel(newLevel). For SparkR, use setLogLevel(newLevel).\n"
     ]
    },
    {
     "name": "stdout",
     "output_type": "stream",
     "text": [
      "22/10/17 19:33:32 WARN Utils: Service 'SparkUI' could not bind on port 4040. Attempting port 4041.\n"
     ]
    }
   ],
   "source": [
    "spark = SparkSession.builder \\\n",
    "    .appName('airlines_delay')\\\n",
    "    .config('spark.jars', '../../jars/snowflake-jdbc-3.13.6.jar, ../../jars/spark-snowflake_2.12-2.9.0-spark_3.1.jar') \\\n",
    "    .getOrCreate()"
   ]
  },
  {
   "cell_type": "code",
   "execution_count": 3,
   "id": "17194525-2beb-4cee-a2f5-a64c59e09b51",
   "metadata": {},
   "outputs": [],
   "source": [
    "cols = ['Year',\n",
    "    'Quarter',\n",
    "    'Month',\n",
    "    'DayofMonth',\n",
    "    'DayOfWeek',\n",
    "    'FlightDate',\n",
    "    'Reporting_Airline',\n",
    "    'DOT_ID_Reporting_Airline',\n",
    "    'IATA_CODE_Reporting_Airline',\n",
    "    'Tail_Number',\n",
    "    'Flight_Number_Reporting_Airline',\n",
    "    'OriginAirportID',\n",
    "    'OriginAirportSeqID',\n",
    "    'OriginCityMarketID',\n",
    "    'Origin',\n",
    "    'OriginCityName',\n",
    "    'OriginState',\n",
    "    'OriginStateFips',\n",
    "    'OriginStateName',\n",
    "    'OriginWac',\n",
    "    'DestAirportID',\n",
    "    'DestAirportSeqID',\n",
    "    'DestCityMarketID',\n",
    "    'Dest',\n",
    "    'DestCityName',\n",
    "    'DestState',\n",
    "    'DestStateFips',\n",
    "    'DestStateName',\n",
    "    'DestWac',\n",
    "    'CRSDepTime',\n",
    "    'DepTime',\n",
    "    'DepDelay',\n",
    "    'DepDelayMinutes',\n",
    "    'DepDel15',\n",
    "    'DepartureDelayGroups',\n",
    "    'DepTimeBlk',\n",
    "    'TaxiOut',\n",
    "    'WheelsOff',\n",
    "    'WheelsOn',\n",
    "    'TaxiIn',\n",
    "    'CRSArrTime',\n",
    "    'ArrTime',\n",
    "    'ArrDelay',\n",
    "    'ArrDelayMinutes',\n",
    "    'ArrDel15',\n",
    "    'ArrivalDelayGroups',\n",
    "    'ArrTimeBlk',\n",
    "    'Cancelled',\n",
    "    'CancellationCode',\n",
    "    'Diverted',\n",
    "    'CRSElapsedTime',\n",
    "    'ActualElapsedTime',\n",
    "    'AirTime',\n",
    "    'Flights',\n",
    "    'Distance',\n",
    "    'DistanceGroup',\n",
    "    'CarrierDelay',\n",
    "    'WeatherDelay',\n",
    "    'NASDelay',\n",
    "    'SecurityDelay',\n",
    "    'LateAircraftDelay',\n",
    "    'FirstDepTime',\n",
    "    'TotalAddGTime',\n",
    "    'LongestAddGTime',\n",
    "    'DivAirportLandings',\n",
    "    'DivReachedDest',\n",
    "    'DivActualElapsedTime',\n",
    "    'DivArrDelay',\n",
    "    'DivDistance',\n",
    "    'Div1Airport',\n",
    "    'Div1AirportID',\n",
    "    'Div1AirportSeqID',\n",
    "    'Div1WheelsOn',\n",
    "    'Div1TotalGTime',\n",
    "    'Div1LongestGTime',\n",
    "    'Div1WheelsOff',\n",
    "    'Div1TailNum',\n",
    "    'Div2Airport',\n",
    "    'Div2AirportID',\n",
    "    'Div2AirportSeqID',\n",
    "    'Div2WheelsOn',\n",
    "    'Div2TotalGTime',\n",
    "    'Div2LongestGTime',\n",
    "    'Div2WheelsOff',\n",
    "    'Div2TailNum',\n",
    "    'Div3Airport',\n",
    "    'Div3AirportID',\n",
    "    'Div3AirportSeqID',\n",
    "    'Div3WheelsOn',\n",
    "    'Div3TotalGTime',\n",
    "    'Div3LongestGTime',\n",
    "    'Div3WheelsOff',\n",
    "    'Div3TailNum',\n",
    "    'Div4Airport',\n",
    "    'Div4AirportID',\n",
    "    'Div4AirportSeqID',\n",
    "    'Div4WheelsOn',\n",
    "    'Div4TotalGTime',\n",
    "    'Div4LongestGTime',\n",
    "    'Div4WheelsOff',\n",
    "    'Div4TailNum',\n",
    "    'Div5Airport',\n",
    "    'Div5AirportID',\n",
    "    'Div5AirportSeqID',\n",
    "    'Div5WheelsOn',\n",
    "    'Div5TotalGTime',\n",
    "    'Div5LongestGTime',\n",
    "    'Div5WheelsOff',\n",
    "    'Div5TailNum'\n",
    "]"
   ]
  },
  {
   "cell_type": "code",
   "execution_count": 4,
   "id": "739fc67c-1751-4d4c-a4b8-1f4dec1c8c24",
   "metadata": {},
   "outputs": [],
   "source": [
    "file_path = \"../../datasets/t_ontime.csv\"\n",
    "\n",
    "delay = spark.read.csv(file_path, sep=r'\\t', header=False)\n",
    "delay = delay.toDF(*cols)"
   ]
  },
  {
   "cell_type": "code",
   "execution_count": 5,
   "id": "51c35f30-e3ca-415a-94a3-bc61dfa9cfa1",
   "metadata": {},
   "outputs": [],
   "source": [
    "new_cols = ['Year',\n",
    "    'Quarter',\n",
    "    'Month',\n",
    "    'DayofMonth',\n",
    "    'DayOfWeek',\n",
    "    'FlightDate',\n",
    "    'Reporting_Airline',\n",
    "    'DOT_ID_Reporting_Airline',\n",
    "    'IATA_CODE_Reporting_Airline',\n",
    "    'Tail_Number',\n",
    "    'Flight_Number_Reporting_Airline',\n",
    "    'OriginAirportID',\n",
    "    'Origin',\n",
    "    'OriginCityName',\n",
    "    'OriginState',\n",
    "    'DestAirportID',\n",
    "    'Dest',\n",
    "    'DestCityName',\n",
    "    'DestState',\n",
    "    'CRSDepTime',\n",
    "    'DepTime',\n",
    "    'DepDelay',\n",
    "    'DepDelayMinutes',\n",
    "    'CRSArrTime',\n",
    "    'ArrTime',\n",
    "    'ArrDelay',\n",
    "    'ArrDelayMinutes',\n",
    "    'Cancelled',\n",
    "    'CancellationCode',\n",
    "    'Diverted',\n",
    "    'CRSElapsedTime',\n",
    "    'ActualElapsedTime',\n",
    "    'AirTime',\n",
    "    'Flights',\n",
    "    'Distance',\n",
    "    'CarrierDelay',\n",
    "    'WeatherDelay',\n",
    "    'NASDelay',\n",
    "    'SecurityDelay',\n",
    "    'LateAircraftDelay'\n",
    "]"
   ]
  },
  {
   "cell_type": "markdown",
   "id": "f0db9fca-0b44-4ba4-9ff6-4d3c940efd36",
   "metadata": {},
   "source": [
    "### Selected columns"
   ]
  },
  {
   "cell_type": "code",
   "execution_count": 6,
   "id": "62b14bae-8b2f-4fcd-828a-5190e5d0e681",
   "metadata": {},
   "outputs": [],
   "source": [
    "delay_selected = delay.select(*new_cols)"
   ]
  },
  {
   "cell_type": "markdown",
   "id": "10e13dba-2376-4b6a-824d-7a4bf820df22",
   "metadata": {},
   "source": [
    "### Selected rows"
   ]
  },
  {
   "cell_type": "code",
   "execution_count": 7,
   "id": "7aa55ee1-e6f5-4a7f-adae-1d817fccff4e",
   "metadata": {},
   "outputs": [],
   "source": [
    "delay_selected = delay_selected.filter(delay_selected.Year.isin(['2014', '2015', '2016', '2017', '2018', '2019', '2020', '2021']))"
   ]
  },
  {
   "cell_type": "code",
   "execution_count": 8,
   "id": "d714e7d2-f423-4f83-83ec-506c2a4885e9",
   "metadata": {},
   "outputs": [
    {
     "name": "stdout",
     "output_type": "stream",
     "text": [
      "22/10/17 19:33:39 WARN package: Truncated the string representation of a plan since it was too large. This behavior can be adjusted by setting 'spark.sql.debug.maxToStringFields'.\n"
     ]
    },
    {
     "name": "stderr",
     "output_type": "stream",
     "text": [
      "                                                                                \r"
     ]
    }
   ],
   "source": [
    "delay_selected.repartition(1).write.csv(\"../../datasets/t_ontime_small.csv\")"
   ]
  }
 ],
 "metadata": {
  "kernelspec": {
   "display_name": "Python 3 (ipykernel)",
   "language": "python",
   "name": "python3"
  },
  "language_info": {
   "codemirror_mode": {
    "name": "ipython",
    "version": 3
   },
   "file_extension": ".py",
   "mimetype": "text/x-python",
   "name": "python",
   "nbconvert_exporter": "python",
   "pygments_lexer": "ipython3",
   "version": "3.7.9"
  }
 },
 "nbformat": 4,
 "nbformat_minor": 5
}
