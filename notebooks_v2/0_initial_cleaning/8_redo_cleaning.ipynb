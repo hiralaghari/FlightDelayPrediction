{
 "cells": [
  {
   "cell_type": "markdown",
   "id": "1d8b112d-5582-4d31-81f2-60efc6a403cb",
   "metadata": {},
   "source": [
    "## Imports"
   ]
  },
  {
   "cell_type": "code",
   "execution_count": 1,
   "id": "c8472e1d-658d-4889-9856-27aa7c731f98",
   "metadata": {},
   "outputs": [],
   "source": [
    "import pandas as pd\n",
    "import numpy as np\n",
    "import os\n",
    "import pyspark\n",
    "from pyspark.sql import SparkSession"
   ]
  },
  {
   "cell_type": "markdown",
   "id": "8f890bed-8717-4bb1-89be-74571f07f35d",
   "metadata": {},
   "source": [
    "### Spark Session"
   ]
  },
  {
   "cell_type": "code",
   "execution_count": 2,
   "id": "b4e72559-1448-4231-b174-b1f5267945f2",
   "metadata": {},
   "outputs": [
    {
     "name": "stdout",
     "output_type": "stream",
     "text": [
      "22/11/13 09:52:38 WARN Utils: Your hostname, SPMBP136.local resolves to a loopback address: 127.0.0.1; using 192.168.0.101 instead (on interface en6)\n",
      "22/11/13 09:52:38 WARN Utils: Set SPARK_LOCAL_IP if you need to bind to another address\n",
      "22/11/13 09:52:39 WARN NativeCodeLoader: Unable to load native-hadoop library for your platform... using builtin-java classes where applicable\n"
     ]
    },
    {
     "name": "stderr",
     "output_type": "stream",
     "text": [
      "Setting default log level to \"WARN\".\n",
      "To adjust logging level use sc.setLogLevel(newLevel). For SparkR, use setLogLevel(newLevel).\n"
     ]
    },
    {
     "name": "stdout",
     "output_type": "stream",
     "text": [
      "22/11/13 09:52:40 WARN Utils: Service 'SparkUI' could not bind on port 4040. Attempting port 4041.\n"
     ]
    }
   ],
   "source": [
    "spark = SparkSession.builder \\\n",
    "    .appName('airlines_delay')\\\n",
    "    .config('spark.jars', '../../jars/snowflake-jdbc-3.13.6.jar, ../../jars/spark-snowflake_2.12-2.9.0-spark_3.1.jar') \\\n",
    "    .getOrCreate()"
   ]
  },
  {
   "cell_type": "code",
   "execution_count": 3,
   "id": "078c5079-7904-4cab-9472-2f828e95248c",
   "metadata": {},
   "outputs": [],
   "source": [
    "delay_2014 = spark.read.csv(\"../../datasets/2014.csv\", header='true')\n",
    "delay_2015 = spark.read.csv(\"../../datasets/2015.csv\", header='true')\n",
    "delay_2016 = spark.read.csv(\"../../datasets/2016.csv\", header='true')\n",
    "delay_2017 = spark.read.csv(\"../../datasets/2017.csv\", header='true')\n",
    "delay_2018 = spark.read.csv(\"../../datasets/2018.csv\", header='true')\n",
    "delay_2019 = spark.read.csv(\"../../datasets/2019.csv\", header='true')\n",
    "delay_2020 = spark.read.csv(\"../../datasets/2020.csv\", header='true')\n",
    "delay_2021 = spark.read.csv(\"../../datasets/2021.csv\", header='true')"
   ]
  },
  {
   "cell_type": "code",
   "execution_count": 4,
   "id": "4b6d6852-4fd1-415e-9caa-dc3451a0e813",
   "metadata": {},
   "outputs": [],
   "source": [
    "new_cols = ['Year',\n",
    "    'Quarter',\n",
    "    'Month',\n",
    "    'DayofMonth',\n",
    "    'DayOfWeek',\n",
    "    'FlightDate',\n",
    "    'DOT_ID_Reporting_Airline',\n",
    "    'IATA_CODE_Reporting_Airline',\n",
    "    'Tail_Number',\n",
    "    'Flight_Number_Reporting_Airline',\n",
    "    'OriginAirportID',\n",
    "    'DestAirportID',\n",
    "    'CRSDepTime',\n",
    "    'DepTime',\n",
    "    'DepDelay',\n",
    "    'DepDelayMinutes',\n",
    "    'CRSArrTime',\n",
    "    'ArrTime',\n",
    "    'ArrDelay',\n",
    "    'ArrDelayMinutes',\n",
    "    'Cancelled',\n",
    "    'CancellationCode',\n",
    "    'Diverted',\n",
    "    'CRSElapsedTime',\n",
    "    'ActualElapsedTime',\n",
    "    'AirTime',\n",
    "    'Flights',\n",
    "    'Distance',\n",
    "    'CarrierDelay',\n",
    "    'WeatherDelay',\n",
    "    'NASDelay',\n",
    "    'SecurityDelay',\n",
    "    'LateAircraftDelay'\n",
    "]"
   ]
  },
  {
   "cell_type": "code",
   "execution_count": 6,
   "id": "f5a52d99-91e4-4b0f-948e-14f3df2eb037",
   "metadata": {},
   "outputs": [],
   "source": [
    "delays = delay_2014.union(delay_2015).union(delay_2016).union(delay_2017).union(delay_2018).union(delay_2019).union(delay_2020).union(delay_2021)"
   ]
  },
  {
   "cell_type": "code",
   "execution_count": 7,
   "id": "44d29444-0665-4e65-8f5d-b2bab3f1bc67",
   "metadata": {},
   "outputs": [],
   "source": [
    "delay_selected = delays.select(*new_cols)"
   ]
  },
  {
   "cell_type": "code",
   "execution_count": 8,
   "id": "ac2dcf44-4ea7-4017-b074-c7feea0596a3",
   "metadata": {},
   "outputs": [
    {
     "name": "stdout",
     "output_type": "stream",
     "text": [
      "22/11/13 09:55:07 WARN package: Truncated the string representation of a plan since it was too large. This behavior can be adjusted by setting 'spark.sql.debug.maxToStringFields'.\n"
     ]
    },
    {
     "name": "stderr",
     "output_type": "stream",
     "text": [
      "                                                                                \r"
     ]
    }
   ],
   "source": [
    "delay_selected.repartition(1).write.csv(\"../../datasets/delays_new.csv\")"
   ]
  }
 ],
 "metadata": {
  "kernelspec": {
   "display_name": "Python 3 (ipykernel)",
   "language": "python",
   "name": "python3"
  },
  "language_info": {
   "codemirror_mode": {
    "name": "ipython",
    "version": 3
   },
   "file_extension": ".py",
   "mimetype": "text/x-python",
   "name": "python",
   "nbconvert_exporter": "python",
   "pygments_lexer": "ipython3",
   "version": "3.7.9"
  }
 },
 "nbformat": 4,
 "nbformat_minor": 5
}
