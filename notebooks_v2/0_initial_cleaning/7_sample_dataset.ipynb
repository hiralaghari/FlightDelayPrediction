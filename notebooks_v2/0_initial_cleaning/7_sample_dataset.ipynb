{
 "cells": [
  {
   "cell_type": "markdown",
   "id": "1d8b112d-5582-4d31-81f2-60efc6a403cb",
   "metadata": {},
   "source": [
    "## Imports"
   ]
  },
  {
   "cell_type": "code",
   "execution_count": 1,
   "id": "c8472e1d-658d-4889-9856-27aa7c731f98",
   "metadata": {},
   "outputs": [],
   "source": [
    "import pandas as pd\n",
    "import numpy as np\n",
    "import os\n",
    "import pyspark\n",
    "from pyspark.sql import SparkSession"
   ]
  },
  {
   "cell_type": "markdown",
   "id": "8f890bed-8717-4bb1-89be-74571f07f35d",
   "metadata": {},
   "source": [
    "### Spark Session"
   ]
  },
  {
   "cell_type": "code",
   "execution_count": 2,
   "id": "b4e72559-1448-4231-b174-b1f5267945f2",
   "metadata": {},
   "outputs": [
    {
     "name": "stdout",
     "output_type": "stream",
     "text": [
      "22/11/07 15:15:11 WARN Utils: Your hostname, SPMBP136.local resolves to a loopback address: 127.0.0.1; using 172.19.103.206 instead (on interface en0)\n",
      "22/11/07 15:15:11 WARN Utils: Set SPARK_LOCAL_IP if you need to bind to another address\n",
      "22/11/07 15:15:11 WARN NativeCodeLoader: Unable to load native-hadoop library for your platform... using builtin-java classes where applicable\n"
     ]
    },
    {
     "name": "stderr",
     "output_type": "stream",
     "text": [
      "Setting default log level to \"WARN\".\n",
      "To adjust logging level use sc.setLogLevel(newLevel). For SparkR, use setLogLevel(newLevel).\n"
     ]
    },
    {
     "name": "stdout",
     "output_type": "stream",
     "text": [
      "22/11/07 15:15:13 WARN Utils: Service 'SparkUI' could not bind on port 4040. Attempting port 4041.\n"
     ]
    }
   ],
   "source": [
    "spark = SparkSession.builder \\\n",
    "    .appName('airlines_delay')\\\n",
    "    .config('spark.jars', '../../jars/snowflake-jdbc-3.13.6.jar, ../../jars/spark-snowflake_2.12-2.9.0-spark_3.1.jar') \\\n",
    "    .getOrCreate()"
   ]
  },
  {
   "cell_type": "code",
   "execution_count": 3,
   "id": "17194525-2beb-4cee-a2f5-a64c59e09b51",
   "metadata": {},
   "outputs": [],
   "source": [
    "cols = ['Year',\n",
    " 'Quarter',\n",
    " 'Month',\n",
    " 'DayofMonth',\n",
    " 'DayOfWeek',\n",
    " 'FlightDate',\n",
    " 'DOT_ID_Reporting_Airline',\n",
    " 'IATA_CODE_Reporting_Airline',\n",
    " 'Tail_Number',\n",
    " 'Flight_Number_Reporting_Airline',\n",
    " 'OriginAirportID',\n",
    " 'DestAirportID',\n",
    " 'CRSDepTime',\n",
    " 'DepTime',\n",
    " 'DepDelay',\n",
    " 'DepDelayMinutes',\n",
    " 'CRSArrTime',\n",
    " 'ArrTime',\n",
    " 'ArrDelay',\n",
    " 'ArrDelayMinutes',\n",
    " 'Cancelled',\n",
    " 'CancellationCode',\n",
    " 'Diverted',\n",
    " 'CRSElapsedTime',\n",
    " 'ActualElapsedTime',\n",
    " 'AirTime',\n",
    " 'Flights',\n",
    " 'Distance',\n",
    " 'CarrierDelay',\n",
    " 'WeatherDelay',\n",
    " 'NASDelay',\n",
    " 'SecurityDelay',\n",
    " 'LateAircraftDelay']"
   ]
  },
  {
   "cell_type": "code",
   "execution_count": 4,
   "id": "739fc67c-1751-4d4c-a4b8-1f4dec1c8c24",
   "metadata": {},
   "outputs": [],
   "source": [
    "file_path = \"../../datasets/delays.csv\"\n",
    "\n",
    "delay = spark.read.csv(file_path, header=False)\n",
    "delay = delay.toDF(*cols)"
   ]
  },
  {
   "cell_type": "code",
   "execution_count": 5,
   "id": "51c35f30-e3ca-415a-94a3-bc61dfa9cfa1",
   "metadata": {},
   "outputs": [
    {
     "data": {
      "text/plain": [
       "DataFrame[Year: string, Quarter: string, Month: string, DayofMonth: string, DayOfWeek: string, FlightDate: string, DOT_ID_Reporting_Airline: string, IATA_CODE_Reporting_Airline: string, Tail_Number: string, Flight_Number_Reporting_Airline: string, OriginAirportID: string, DestAirportID: string, CRSDepTime: string, DepTime: string, DepDelay: string, DepDelayMinutes: string, CRSArrTime: string, ArrTime: string, ArrDelay: string, ArrDelayMinutes: string, Cancelled: string, CancellationCode: string, Diverted: string, CRSElapsedTime: string, ActualElapsedTime: string, AirTime: string, Flights: string, Distance: string, CarrierDelay: string, WeatherDelay: string, NASDelay: string, SecurityDelay: string, LateAircraftDelay: string]"
      ]
     },
     "execution_count": 5,
     "metadata": {},
     "output_type": "execute_result"
    }
   ],
   "source": [
    "delay"
   ]
  },
  {
   "cell_type": "code",
   "execution_count": 6,
   "id": "ed464eb7-4f60-4daa-a3c7-a9eda8832f18",
   "metadata": {},
   "outputs": [],
   "source": [
    "sample_df = delay.sample(False, 0.001, seed=0)"
   ]
  },
  {
   "cell_type": "code",
   "execution_count": 7,
   "id": "6226afdb-e1ad-466b-83db-68479236c692",
   "metadata": {},
   "outputs": [
    {
     "name": "stdout",
     "output_type": "stream",
     "text": [
      "22/11/07 15:15:20 WARN package: Truncated the string representation of a plan since it was too large. This behavior can be adjusted by setting 'spark.sql.debug.maxToStringFields'.\n"
     ]
    },
    {
     "name": "stderr",
     "output_type": "stream",
     "text": [
      "                                                                                \r"
     ]
    }
   ],
   "source": [
    "sample_df.repartition(1).write.csv(\"../../datasets/sample_delays.csv\")"
   ]
  }
 ],
 "metadata": {
  "kernelspec": {
   "display_name": "Python 3 (ipykernel)",
   "language": "python",
   "name": "python3"
  },
  "language_info": {
   "codemirror_mode": {
    "name": "ipython",
    "version": 3
   },
   "file_extension": ".py",
   "mimetype": "text/x-python",
   "name": "python",
   "nbconvert_exporter": "python",
   "pygments_lexer": "ipython3",
   "version": "3.7.9"
  }
 },
 "nbformat": 4,
 "nbformat_minor": 5
}
