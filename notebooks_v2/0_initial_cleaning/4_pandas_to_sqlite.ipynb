{
 "cells": [
  {
   "cell_type": "markdown",
   "id": "1d8b112d-5582-4d31-81f2-60efc6a403cb",
   "metadata": {},
   "source": [
    "## Imports"
   ]
  },
  {
   "cell_type": "code",
   "execution_count": 1,
   "id": "c8472e1d-658d-4889-9856-27aa7c731f98",
   "metadata": {},
   "outputs": [],
   "source": [
    "import pandas as pd\n",
    "import numpy as np\n",
    "import sqlite3\n",
    "import sqlalchemy\n",
    "from sqlalchemy import create_engine"
   ]
  },
  {
   "cell_type": "code",
   "execution_count": 2,
   "id": "51c35f30-e3ca-415a-94a3-bc61dfa9cfa1",
   "metadata": {
    "tags": []
   },
   "outputs": [],
   "source": [
    "cols = ['Year',\n",
    "    'Quarter',\n",
    "    'Month',\n",
    "    'DayofMonth',\n",
    "    'DayOfWeek',\n",
    "    'FlightDate',\n",
    "    'DOT_ID_Reporting_Airline',\n",
    "    'IATA_CODE_Reporting_Airline',\n",
    "    'Tail_Number',\n",
    "    'Flight_Number_Reporting_Airline',\n",
    "    'OriginAirportID',\n",
    "    'DestAirportID',\n",
    "    'CRSDepTime',\n",
    "    'DepTime',\n",
    "    'DepDelay',\n",
    "    'DepDelayMinutes',\n",
    "    'CRSArrTime',\n",
    "    'ArrTime',\n",
    "    'ArrDelay',\n",
    "    'ArrDelayMinutes',\n",
    "    'Cancelled',\n",
    "    'CancellationCode',\n",
    "    'Diverted',\n",
    "    'CRSElapsedTime',\n",
    "    'ActualElapsedTime',\n",
    "    'AirTime',\n",
    "    'Flights',\n",
    "    'Distance',\n",
    "    'CarrierDelay',\n",
    "    'WeatherDelay',\n",
    "    'NASDelay',\n",
    "    'SecurityDelay',\n",
    "    'LateAircraftDelay'\n",
    "]"
   ]
  },
  {
   "cell_type": "code",
   "execution_count": 3,
   "id": "739fc67c-1751-4d4c-a4b8-1f4dec1c8c24",
   "metadata": {},
   "outputs": [],
   "source": [
    "file_path = \"../../datasets/delays.csv\"\n",
    "db_path = \"../../dbs/delays.db\""
   ]
  },
  {
   "cell_type": "code",
   "execution_count": 4,
   "id": "50092223-088e-4edf-87f0-250a10757d9e",
   "metadata": {},
   "outputs": [],
   "source": [
    "df_sample = pd.read_csv(file_path, names=cols, nrows=100)"
   ]
  },
  {
   "cell_type": "code",
   "execution_count": 5,
   "id": "7940652c-3929-4a77-9f0d-a1d025d64334",
   "metadata": {},
   "outputs": [],
   "source": [
    "conn = sqlite3.connect(db_path)\n",
    "conn.execute(\"DROP TABLE IF EXISTS delay;\")\n",
    "\n",
    "create_query = ''' \\\n",
    "            CREATE TABLE delay\n",
    "            (\n",
    "                Year                            SMALLINT UNSIGNED,\n",
    "                Quarter                         TINYINT UNSIGNED,\n",
    "                Month                           TINYINT UNSIGNED,\n",
    "                DayofMonth                      TINYINT UNSIGNED,\n",
    "                DayOfWeek                       TINYINT UNSIGNED,\n",
    "                FlightDate                      DATE,\n",
    "                DOT_ID_Reporting_Airline        INT,\n",
    "                IATA_CODE_Reporting_Airline     VARCHAR,\n",
    "                Tail_Number                     VARCHAR,\n",
    "                Flight_Number_Reporting_Airline VARCHAR,\n",
    "                OriginAirportID                 INT,\n",
    "                DestAirportID                   INT,\n",
    "                CRSDepTime                      INT,\n",
    "                DepTime                         INT,\n",
    "                DepDelay                        INT,\n",
    "                DepDelayMinutes                 INT,\n",
    "                CRSArrTime                      INT,\n",
    "                ArrTime                         INT,\n",
    "                ArrDelay                        INT,\n",
    "                ArrDelayMinutes                 INT,\n",
    "                Cancelled                       TINYINT UNSIGNED,\n",
    "                CancellationCode                VARCHAR,\n",
    "                Diverted                        TINYINT UNSIGNED,\n",
    "                CRSElapsedTime                  INT,\n",
    "                ActualElapsedTime               INT,\n",
    "                AirTime                         INT,\n",
    "                Flights                         INT,\n",
    "                Distance                        INT,\n",
    "                CarrierDelay                    INT,\n",
    "                WeatherDelay                    INT,\n",
    "                NASDelay                        INT,\n",
    "                SecurityDelay                   INT,\n",
    "                LateAircraftDelay               INT\n",
    "            );\n",
    "    '''\n",
    "conn.execute(create_query)\n",
    "conn.close()\n",
    "engine = sqlalchemy.create_engine(\"sqlite:///\"+db_path, echo=False)"
   ]
  },
  {
   "cell_type": "code",
   "execution_count": 6,
   "id": "cf0f41e0-de7c-443a-a0b9-52688d900b86",
   "metadata": {},
   "outputs": [],
   "source": [
    "def add_to_db(chunk):\n",
    "    chunk.to_sql('delay', con=engine, if_exists='append', index=False)"
   ]
  },
  {
   "cell_type": "code",
   "execution_count": 7,
   "id": "bb1fe63d-4d30-4b76-a8a4-ecd2cb2e7ba4",
   "metadata": {},
   "outputs": [],
   "source": [
    "chunksize = 500000\n",
    "with pd.read_csv(file_path, chunksize=chunksize, low_memory=False, names=cols) as reader:\n",
    "    for chunk in reader:\n",
    "        add_to_db(chunk)"
   ]
  },
  {
   "cell_type": "code",
   "execution_count": 8,
   "id": "24880dc1-0fc2-4d74-90a2-8b8cbf8c0922",
   "metadata": {},
   "outputs": [],
   "source": [
    "conn = sqlite3.connect(db_path)"
   ]
  },
  {
   "cell_type": "code",
   "execution_count": 9,
   "id": "92210abf-9921-4a45-aed3-13bc4e6418b2",
   "metadata": {},
   "outputs": [],
   "source": [
    "query = \"\"\" \\\n",
    "    select Year, count(*) as Records from delay\n",
    "    group by 1\n",
    "    order by 1\n",
    "\"\"\"\n",
    "\n",
    "df = pd.read_sql_query(query, conn)"
   ]
  },
  {
   "cell_type": "code",
   "execution_count": 10,
   "id": "05a97d33-98e4-44f8-9b9d-fbf61840b96b",
   "metadata": {},
   "outputs": [
    {
     "data": {
      "text/html": [
       "<div>\n",
       "<style scoped>\n",
       "    .dataframe tbody tr th:only-of-type {\n",
       "        vertical-align: middle;\n",
       "    }\n",
       "\n",
       "    .dataframe tbody tr th {\n",
       "        vertical-align: top;\n",
       "    }\n",
       "\n",
       "    .dataframe thead th {\n",
       "        text-align: right;\n",
       "    }\n",
       "</style>\n",
       "<table border=\"1\" class=\"dataframe\">\n",
       "  <thead>\n",
       "    <tr style=\"text-align: right;\">\n",
       "      <th></th>\n",
       "      <th>Year</th>\n",
       "      <th>Records</th>\n",
       "    </tr>\n",
       "  </thead>\n",
       "  <tbody>\n",
       "    <tr>\n",
       "      <th>0</th>\n",
       "      <td>2014</td>\n",
       "      <td>5819811</td>\n",
       "    </tr>\n",
       "    <tr>\n",
       "      <th>1</th>\n",
       "      <td>2015</td>\n",
       "      <td>5819079</td>\n",
       "    </tr>\n",
       "    <tr>\n",
       "      <th>2</th>\n",
       "      <td>2016</td>\n",
       "      <td>5617658</td>\n",
       "    </tr>\n",
       "    <tr>\n",
       "      <th>3</th>\n",
       "      <td>2017</td>\n",
       "      <td>5674621</td>\n",
       "    </tr>\n",
       "    <tr>\n",
       "      <th>4</th>\n",
       "      <td>2018</td>\n",
       "      <td>7213446</td>\n",
       "    </tr>\n",
       "    <tr>\n",
       "      <th>5</th>\n",
       "      <td>2019</td>\n",
       "      <td>7422037</td>\n",
       "    </tr>\n",
       "    <tr>\n",
       "      <th>6</th>\n",
       "      <td>2020</td>\n",
       "      <td>4688354</td>\n",
       "    </tr>\n",
       "    <tr>\n",
       "      <th>7</th>\n",
       "      <td>2021</td>\n",
       "      <td>5443512</td>\n",
       "    </tr>\n",
       "  </tbody>\n",
       "</table>\n",
       "</div>"
      ],
      "text/plain": [
       "   Year  Records\n",
       "0  2014  5819811\n",
       "1  2015  5819079\n",
       "2  2016  5617658\n",
       "3  2017  5674621\n",
       "4  2018  7213446\n",
       "5  2019  7422037\n",
       "6  2020  4688354\n",
       "7  2021  5443512"
      ]
     },
     "execution_count": 10,
     "metadata": {},
     "output_type": "execute_result"
    }
   ],
   "source": [
    "df"
   ]
  }
 ],
 "metadata": {
  "kernelspec": {
   "display_name": "Python 3 (ipykernel)",
   "language": "python",
   "name": "python3"
  },
  "language_info": {
   "codemirror_mode": {
    "name": "ipython",
    "version": 3
   },
   "file_extension": ".py",
   "mimetype": "text/x-python",
   "name": "python",
   "nbconvert_exporter": "python",
   "pygments_lexer": "ipython3",
   "version": "3.7.9"
  }
 },
 "nbformat": 4,
 "nbformat_minor": 5
}
