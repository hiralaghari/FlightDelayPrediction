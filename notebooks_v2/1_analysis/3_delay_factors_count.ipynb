{
 "cells": [
  {
   "cell_type": "code",
   "execution_count": 1,
   "id": "139cb903-f0ec-4098-9adb-a695f9ea2f4e",
   "metadata": {},
   "outputs": [],
   "source": [
    "import pandas as pd\n",
    "import numpy as np\n",
    "import sqlite3\n",
    "from sqlite3 import Error"
   ]
  },
  {
   "cell_type": "markdown",
   "id": "00558d6d-ec7a-47a1-a996-e87d904753b1",
   "metadata": {},
   "source": [
    "## Using sqlite"
   ]
  },
  {
   "cell_type": "code",
   "execution_count": 2,
   "id": "4a43d57d-b375-4038-925b-88bb2abb33db",
   "metadata": {},
   "outputs": [],
   "source": [
    "### download the db from link in readme\n",
    "db_path = \"../../dbs/delays.db\""
   ]
  },
  {
   "cell_type": "code",
   "execution_count": 3,
   "id": "1acc7406-37b9-46b5-b007-eac162114ed4",
   "metadata": {},
   "outputs": [],
   "source": [
    "def create_connection(path):\n",
    "    connection = None\n",
    "    try:\n",
    "        connection = sqlite3.connect(path)\n",
    "        connection.text_factory = str\n",
    "    except Error as e:\n",
    "        print(\"Error occurred: \" + str(e))\n",
    "    return connection\n",
    "\n",
    "\n",
    "def execute_query(connection, query):\n",
    "    cursor = connection.cursor()\n",
    "    try:\n",
    "        if query == \"\":\n",
    "            return \"Query Blank\"\n",
    "        else:\n",
    "            df = pd.read_sql_query(query, connection)\n",
    "            return df\n",
    "    except Error as e:\n",
    "        return \"Error occurred: \" + str(e)"
   ]
  },
  {
   "cell_type": "code",
   "execution_count": 4,
   "id": "c3afc8fb-4f67-4835-9043-15f1a60aa917",
   "metadata": {},
   "outputs": [],
   "source": [
    "connection = create_connection(db_path)"
   ]
  },
  {
   "cell_type": "markdown",
   "id": "ec9424f5-ebb5-4520-91be-11705bf8fd7b",
   "metadata": {},
   "source": [
    "### Case 1: Number of late arrivals, but had nothing to do with late departures"
   ]
  },
  {
   "cell_type": "code",
   "execution_count": 5,
   "id": "0bf735a2-537c-4a19-b3b1-bddabe1b5eed",
   "metadata": {
    "tags": []
   },
   "outputs": [],
   "source": [
    "sample_query = \\\n",
    "    \"\"\"\n",
    "        select \n",
    "         count(*)\n",
    "        from \n",
    "          delay \n",
    "        where \n",
    "          DepDelay=0 and ArrDelay!=0\n",
    "    \"\"\"\n",
    "\n",
    "only_late_arrivals_count =  execute_query(connection, sample_query)"
   ]
  },
  {
   "cell_type": "code",
   "execution_count": 6,
   "id": "61b13bd6-5ea3-49ac-b952-305f63f6c992",
   "metadata": {},
   "outputs": [
    {
     "data": {
      "text/html": [
       "<div>\n",
       "<style scoped>\n",
       "    .dataframe tbody tr th:only-of-type {\n",
       "        vertical-align: middle;\n",
       "    }\n",
       "\n",
       "    .dataframe tbody tr th {\n",
       "        vertical-align: top;\n",
       "    }\n",
       "\n",
       "    .dataframe thead th {\n",
       "        text-align: right;\n",
       "    }\n",
       "</style>\n",
       "<table border=\"1\" class=\"dataframe\">\n",
       "  <thead>\n",
       "    <tr style=\"text-align: right;\">\n",
       "      <th></th>\n",
       "      <th>count(*)</th>\n",
       "    </tr>\n",
       "  </thead>\n",
       "  <tbody>\n",
       "    <tr>\n",
       "      <th>0</th>\n",
       "      <td>2339257</td>\n",
       "    </tr>\n",
       "  </tbody>\n",
       "</table>\n",
       "</div>"
      ],
      "text/plain": [
       "   count(*)\n",
       "0   2339257"
      ]
     },
     "execution_count": 6,
     "metadata": {},
     "output_type": "execute_result"
    }
   ],
   "source": [
    "only_late_arrivals_count"
   ]
  },
  {
   "cell_type": "markdown",
   "id": "f223467c-5afc-40bb-8554-245cd526023d",
   "metadata": {},
   "source": [
    "### Case 2: Number of late departures, which did not cause delay in arrivals"
   ]
  },
  {
   "cell_type": "code",
   "execution_count": 8,
   "id": "b979d1d2-ddb4-427a-ba04-cb867a9e356c",
   "metadata": {},
   "outputs": [],
   "source": [
    "sample_query = \\\n",
    "    \"\"\"\n",
    "        select \n",
    "         count(*)\n",
    "        from \n",
    "          delay \n",
    "        where \n",
    "          DepDelay!=0 and ArrDelay=0\n",
    "    \"\"\"\n",
    "\n",
    "only_late_departures_count =  execute_query(connection, sample_query)"
   ]
  },
  {
   "cell_type": "code",
   "execution_count": 9,
   "id": "dedf29f2-f6ff-4eee-be92-78d6abd2398e",
   "metadata": {},
   "outputs": [
    {
     "data": {
      "text/html": [
       "<div>\n",
       "<style scoped>\n",
       "    .dataframe tbody tr th:only-of-type {\n",
       "        vertical-align: middle;\n",
       "    }\n",
       "\n",
       "    .dataframe tbody tr th {\n",
       "        vertical-align: top;\n",
       "    }\n",
       "\n",
       "    .dataframe thead th {\n",
       "        text-align: right;\n",
       "    }\n",
       "</style>\n",
       "<table border=\"1\" class=\"dataframe\">\n",
       "  <thead>\n",
       "    <tr style=\"text-align: right;\">\n",
       "      <th></th>\n",
       "      <th>count(*)</th>\n",
       "    </tr>\n",
       "  </thead>\n",
       "  <tbody>\n",
       "    <tr>\n",
       "      <th>0</th>\n",
       "      <td>996999</td>\n",
       "    </tr>\n",
       "  </tbody>\n",
       "</table>\n",
       "</div>"
      ],
      "text/plain": [
       "   count(*)\n",
       "0    996999"
      ]
     },
     "execution_count": 9,
     "metadata": {},
     "output_type": "execute_result"
    }
   ],
   "source": [
    "only_late_departures_count"
   ]
  },
  {
   "cell_type": "code",
   "execution_count": 10,
   "id": "289f1cfc-fd91-4d92-8d1e-82fd31fc3dac",
   "metadata": {},
   "outputs": [],
   "source": [
    "sample_query = \\\n",
    "    \"\"\"\n",
    "        select \n",
    "         count(*)\n",
    "        from \n",
    "          delay \n",
    "        where \n",
    "          DepDelay>0 and ArrDelay>0\n",
    "    \"\"\"\n",
    "\n",
    "both_late_count =  execute_query(connection, sample_query)"
   ]
  },
  {
   "cell_type": "code",
   "execution_count": 11,
   "id": "58ebee9b-8d64-4037-9351-d8d33a3747d5",
   "metadata": {},
   "outputs": [
    {
     "data": {
      "text/html": [
       "<div>\n",
       "<style scoped>\n",
       "    .dataframe tbody tr th:only-of-type {\n",
       "        vertical-align: middle;\n",
       "    }\n",
       "\n",
       "    .dataframe tbody tr th {\n",
       "        vertical-align: top;\n",
       "    }\n",
       "\n",
       "    .dataframe thead th {\n",
       "        text-align: right;\n",
       "    }\n",
       "</style>\n",
       "<table border=\"1\" class=\"dataframe\">\n",
       "  <thead>\n",
       "    <tr style=\"text-align: right;\">\n",
       "      <th></th>\n",
       "      <th>count(*)</th>\n",
       "    </tr>\n",
       "  </thead>\n",
       "  <tbody>\n",
       "    <tr>\n",
       "      <th>0</th>\n",
       "      <td>43317820</td>\n",
       "    </tr>\n",
       "  </tbody>\n",
       "</table>\n",
       "</div>"
      ],
      "text/plain": [
       "   count(*)\n",
       "0  43317820"
      ]
     },
     "execution_count": 11,
     "metadata": {},
     "output_type": "execute_result"
    }
   ],
   "source": [
    "both_late_count"
   ]
  },
  {
   "cell_type": "code",
   "execution_count": 12,
   "id": "4ed93f6b-fc45-44aa-8573-af1d90527e87",
   "metadata": {},
   "outputs": [],
   "source": [
    "sample_query = \\\n",
    "    \"\"\"\n",
    "        select \n",
    "         count(*)\n",
    "        from \n",
    "          delay \n",
    "        where \n",
    "          DepDelay=0 and ArrDelay=0\n",
    "    \"\"\"\n",
    "\n",
    "\n",
    "not_late_count = execute_query(connection, sample_query)"
   ]
  },
  {
   "cell_type": "code",
   "execution_count": 13,
   "id": "59ea7962-b847-4380-b5b9-41fc7cf68505",
   "metadata": {},
   "outputs": [
    {
     "data": {
      "text/html": [
       "<div>\n",
       "<style scoped>\n",
       "    .dataframe tbody tr th:only-of-type {\n",
       "        vertical-align: middle;\n",
       "    }\n",
       "\n",
       "    .dataframe tbody tr th {\n",
       "        vertical-align: top;\n",
       "    }\n",
       "\n",
       "    .dataframe thead th {\n",
       "        text-align: right;\n",
       "    }\n",
       "</style>\n",
       "<table border=\"1\" class=\"dataframe\">\n",
       "  <thead>\n",
       "    <tr style=\"text-align: right;\">\n",
       "      <th></th>\n",
       "      <th>count(*)</th>\n",
       "    </tr>\n",
       "  </thead>\n",
       "  <tbody>\n",
       "    <tr>\n",
       "      <th>0</th>\n",
       "      <td>1044442</td>\n",
       "    </tr>\n",
       "  </tbody>\n",
       "</table>\n",
       "</div>"
      ],
      "text/plain": [
       "   count(*)\n",
       "0   1044442"
      ]
     },
     "execution_count": 13,
     "metadata": {},
     "output_type": "execute_result"
    }
   ],
   "source": [
    "not_late_count"
   ]
  },
  {
   "cell_type": "code",
   "execution_count": 14,
   "id": "387194c6-3a9d-41c9-8306-12edc08f7051",
   "metadata": {},
   "outputs": [],
   "source": [
    "sample_query = \\\n",
    "    \"\"\"\n",
    "        select \n",
    "         count(*)\n",
    "        from \n",
    "          delay \n",
    "    \"\"\"\n",
    "\n",
    "\n",
    "all_count = execute_query(connection, sample_query)"
   ]
  },
  {
   "cell_type": "code",
   "execution_count": 15,
   "id": "bbb58111-a962-4105-8066-6fc469d8c737",
   "metadata": {},
   "outputs": [
    {
     "data": {
      "text/html": [
       "<div>\n",
       "<style scoped>\n",
       "    .dataframe tbody tr th:only-of-type {\n",
       "        vertical-align: middle;\n",
       "    }\n",
       "\n",
       "    .dataframe tbody tr th {\n",
       "        vertical-align: top;\n",
       "    }\n",
       "\n",
       "    .dataframe thead th {\n",
       "        text-align: right;\n",
       "    }\n",
       "</style>\n",
       "<table border=\"1\" class=\"dataframe\">\n",
       "  <thead>\n",
       "    <tr style=\"text-align: right;\">\n",
       "      <th></th>\n",
       "      <th>count(*)</th>\n",
       "    </tr>\n",
       "  </thead>\n",
       "  <tbody>\n",
       "    <tr>\n",
       "      <th>0</th>\n",
       "      <td>47698518</td>\n",
       "    </tr>\n",
       "  </tbody>\n",
       "</table>\n",
       "</div>"
      ],
      "text/plain": [
       "   count(*)\n",
       "0  47698518"
      ]
     },
     "execution_count": 15,
     "metadata": {},
     "output_type": "execute_result"
    }
   ],
   "source": [
    "all_count"
   ]
  },
  {
   "cell_type": "code",
   "execution_count": 39,
   "id": "86b5385e-35a0-4584-ae17-7fdea4650dee",
   "metadata": {},
   "outputs": [],
   "source": [
    "sample_query = \\\n",
    "    \"\"\"\n",
    "        select \n",
    "          ArrDelay, \n",
    "          DepDelay, \n",
    "          CarrierDelay, \n",
    "          WeatherDelay, \n",
    "          NASDelay, \n",
    "          SecurityDelay, \n",
    "          LateAircraftDelay \n",
    "        from \n",
    "          delay \n",
    "        where \n",
    "          DepDelay=0 and ArrDelay!=0\n",
    "    \"\"\"\n",
    "\n",
    "only_late_arrivals = execute_query(connection, sample_query)"
   ]
  },
  {
   "cell_type": "code",
   "execution_count": 40,
   "id": "0edbab6f-5385-4f7a-bd09-9e7e0180030a",
   "metadata": {},
   "outputs": [
    {
     "data": {
      "text/plain": [
       "ArrDelay             2194018\n",
       "DepDelay                   0\n",
       "CarrierDelay            4131\n",
       "WeatherDelay             563\n",
       "NASDelay              128857\n",
       "SecurityDelay              2\n",
       "LateAircraftDelay          4\n",
       "dtype: int64"
      ]
     },
     "execution_count": 40,
     "metadata": {},
     "output_type": "execute_result"
    }
   ],
   "source": [
    "(only_late_arrivals>1).sum()"
   ]
  },
  {
   "cell_type": "code",
   "execution_count": 27,
   "id": "a9884756-03cf-42f0-ad97-6fdf9b0e6519",
   "metadata": {},
   "outputs": [],
   "source": [
    "sample_query = \\\n",
    "    \"\"\"\n",
    "        select \n",
    "          ArrDelay, \n",
    "          DepDelay, \n",
    "          CarrierDelay, \n",
    "          WeatherDelay, \n",
    "          NASDelay, \n",
    "          SecurityDelay, \n",
    "          LateAircraftDelay \n",
    "        from \n",
    "          delay \n",
    "        where \n",
    "          DepDelay!=0 and ArrDelay=0\n",
    "    \"\"\"\n",
    "\n",
    "only_late_departures = execute_query(connection, sample_query)"
   ]
  },
  {
   "cell_type": "code",
   "execution_count": 29,
   "id": "55862d94-3df7-4949-a8ef-d4e598542337",
   "metadata": {},
   "outputs": [
    {
     "data": {
      "text/plain": [
       "ArrDelay                  0\n",
       "DepDelay             996999\n",
       "CarrierDelay              0\n",
       "WeatherDelay              0\n",
       "NASDelay                  0\n",
       "SecurityDelay             0\n",
       "LateAircraftDelay         0\n",
       "dtype: int64"
      ]
     },
     "execution_count": 29,
     "metadata": {},
     "output_type": "execute_result"
    }
   ],
   "source": [
    "(only_late_departures>0).sum()"
   ]
  },
  {
   "cell_type": "code",
   "execution_count": 44,
   "id": "d0cda71b-0eed-42bb-becf-3ec21aa8f897",
   "metadata": {},
   "outputs": [],
   "source": [
    "sample_query = \\\n",
    "    \"\"\"\n",
    "        select \n",
    "          ArrDelay, \n",
    "          DepDelay, \n",
    "          CarrierDelay, \n",
    "          WeatherDelay, \n",
    "          NASDelay, \n",
    "          SecurityDelay, \n",
    "          LateAircraftDelay \n",
    "        from \n",
    "          delay \n",
    "        where \n",
    "          DepDelay!=0 and ArrDelay!=0\n",
    "    \"\"\"\n",
    "\n",
    "both_late = execute_query(connection, sample_query)"
   ]
  },
  {
   "cell_type": "code",
   "execution_count": 45,
   "id": "f9b22af4-e6b5-4f2b-98f3-1d004ab2679d",
   "metadata": {},
   "outputs": [
    {
     "data": {
      "text/html": [
       "<div>\n",
       "<style scoped>\n",
       "    .dataframe tbody tr th:only-of-type {\n",
       "        vertical-align: middle;\n",
       "    }\n",
       "\n",
       "    .dataframe tbody tr th {\n",
       "        vertical-align: top;\n",
       "    }\n",
       "\n",
       "    .dataframe thead th {\n",
       "        text-align: right;\n",
       "    }\n",
       "</style>\n",
       "<table border=\"1\" class=\"dataframe\">\n",
       "  <thead>\n",
       "    <tr style=\"text-align: right;\">\n",
       "      <th></th>\n",
       "      <th>ArrDelay</th>\n",
       "      <th>DepDelay</th>\n",
       "      <th>CarrierDelay</th>\n",
       "      <th>WeatherDelay</th>\n",
       "      <th>NASDelay</th>\n",
       "      <th>SecurityDelay</th>\n",
       "      <th>LateAircraftDelay</th>\n",
       "    </tr>\n",
       "  </thead>\n",
       "  <tbody>\n",
       "    <tr>\n",
       "      <th>0</th>\n",
       "      <td>4</td>\n",
       "      <td>5</td>\n",
       "      <td>0</td>\n",
       "      <td>0</td>\n",
       "      <td>0</td>\n",
       "      <td>0</td>\n",
       "      <td>0</td>\n",
       "    </tr>\n",
       "    <tr>\n",
       "      <th>1</th>\n",
       "      <td>20</td>\n",
       "      <td>11</td>\n",
       "      <td>11</td>\n",
       "      <td>0</td>\n",
       "      <td>9</td>\n",
       "      <td>0</td>\n",
       "      <td>0</td>\n",
       "    </tr>\n",
       "    <tr>\n",
       "      <th>2</th>\n",
       "      <td>2</td>\n",
       "      <td>9</td>\n",
       "      <td>0</td>\n",
       "      <td>0</td>\n",
       "      <td>0</td>\n",
       "      <td>0</td>\n",
       "      <td>0</td>\n",
       "    </tr>\n",
       "    <tr>\n",
       "      <th>3</th>\n",
       "      <td>7</td>\n",
       "      <td>1</td>\n",
       "      <td>0</td>\n",
       "      <td>0</td>\n",
       "      <td>0</td>\n",
       "      <td>0</td>\n",
       "      <td>0</td>\n",
       "    </tr>\n",
       "    <tr>\n",
       "      <th>4</th>\n",
       "      <td>16</td>\n",
       "      <td>6</td>\n",
       "      <td>0</td>\n",
       "      <td>0</td>\n",
       "      <td>0</td>\n",
       "      <td>0</td>\n",
       "      <td>0</td>\n",
       "    </tr>\n",
       "    <tr>\n",
       "      <th>...</th>\n",
       "      <td>...</td>\n",
       "      <td>...</td>\n",
       "      <td>...</td>\n",
       "      <td>...</td>\n",
       "      <td>...</td>\n",
       "      <td>...</td>\n",
       "      <td>...</td>\n",
       "    </tr>\n",
       "    <tr>\n",
       "      <th>43317815</th>\n",
       "      <td>11</td>\n",
       "      <td>5</td>\n",
       "      <td>0</td>\n",
       "      <td>0</td>\n",
       "      <td>0</td>\n",
       "      <td>0</td>\n",
       "      <td>0</td>\n",
       "    </tr>\n",
       "    <tr>\n",
       "      <th>43317816</th>\n",
       "      <td>17</td>\n",
       "      <td>10</td>\n",
       "      <td>0</td>\n",
       "      <td>0</td>\n",
       "      <td>0</td>\n",
       "      <td>0</td>\n",
       "      <td>0</td>\n",
       "    </tr>\n",
       "    <tr>\n",
       "      <th>43317817</th>\n",
       "      <td>3</td>\n",
       "      <td>2</td>\n",
       "      <td>0</td>\n",
       "      <td>0</td>\n",
       "      <td>0</td>\n",
       "      <td>0</td>\n",
       "      <td>0</td>\n",
       "    </tr>\n",
       "    <tr>\n",
       "      <th>43317818</th>\n",
       "      <td>1</td>\n",
       "      <td>1</td>\n",
       "      <td>0</td>\n",
       "      <td>0</td>\n",
       "      <td>0</td>\n",
       "      <td>0</td>\n",
       "      <td>0</td>\n",
       "    </tr>\n",
       "    <tr>\n",
       "      <th>43317819</th>\n",
       "      <td>16</td>\n",
       "      <td>13</td>\n",
       "      <td>0</td>\n",
       "      <td>0</td>\n",
       "      <td>0</td>\n",
       "      <td>0</td>\n",
       "      <td>0</td>\n",
       "    </tr>\n",
       "  </tbody>\n",
       "</table>\n",
       "<p>43317820 rows × 7 columns</p>\n",
       "</div>"
      ],
      "text/plain": [
       "          ArrDelay  DepDelay  CarrierDelay  WeatherDelay  NASDelay  \\\n",
       "0                4         5             0             0         0   \n",
       "1               20        11            11             0         9   \n",
       "2                2         9             0             0         0   \n",
       "3                7         1             0             0         0   \n",
       "4               16         6             0             0         0   \n",
       "...            ...       ...           ...           ...       ...   \n",
       "43317815        11         5             0             0         0   \n",
       "43317816        17        10             0             0         0   \n",
       "43317817         3         2             0             0         0   \n",
       "43317818         1         1             0             0         0   \n",
       "43317819        16        13             0             0         0   \n",
       "\n",
       "          SecurityDelay  LateAircraftDelay  \n",
       "0                     0                  0  \n",
       "1                     0                  0  \n",
       "2                     0                  0  \n",
       "3                     0                  0  \n",
       "4                     0                  0  \n",
       "...                 ...                ...  \n",
       "43317815              0                  0  \n",
       "43317816              0                  0  \n",
       "43317817              0                  0  \n",
       "43317818              0                  0  \n",
       "43317819              0                  0  \n",
       "\n",
       "[43317820 rows x 7 columns]"
      ]
     },
     "execution_count": 45,
     "metadata": {},
     "output_type": "execute_result"
    }
   ],
   "source": [
    "both_late"
   ]
  },
  {
   "cell_type": "code",
   "execution_count": 46,
   "id": "75d02522-2dfa-4854-b8bd-bc09f8743dad",
   "metadata": {},
   "outputs": [
    {
     "data": {
      "text/plain": [
       "ArrDelay             43317820\n",
       "DepDelay             43317820\n",
       "CarrierDelay          4317837\n",
       "WeatherDelay           485096\n",
       "NASDelay              4294164\n",
       "SecurityDelay           31001\n",
       "LateAircraftDelay     4269470\n",
       "dtype: int64"
      ]
     },
     "execution_count": 46,
     "metadata": {},
     "output_type": "execute_result"
    }
   ],
   "source": [
    "(both_late>0).sum()"
   ]
  },
  {
   "cell_type": "code",
   "execution_count": 48,
   "id": "4336c808-65c4-4dea-897e-6addcec538c5",
   "metadata": {},
   "outputs": [],
   "source": [
    "sample_query = \\\n",
    "    \"\"\"\n",
    "        select \n",
    "          ArrDelay, \n",
    "          DepDelay, \n",
    "          CarrierDelay, \n",
    "          WeatherDelay, \n",
    "          NASDelay, \n",
    "          SecurityDelay, \n",
    "          LateAircraftDelay \n",
    "        from \n",
    "          delay \n",
    "        where \n",
    "          DepDelay=0 and ArrDelay=0\n",
    "    \"\"\"\n",
    "\n",
    "not_late = execute_query(connection, sample_query)"
   ]
  },
  {
   "cell_type": "code",
   "execution_count": 49,
   "id": "97fb1e75-e2ac-4f8c-ac8e-b5975536c008",
   "metadata": {},
   "outputs": [
    {
     "data": {
      "text/plain": [
       "ArrDelay             0\n",
       "DepDelay             0\n",
       "CarrierDelay         0\n",
       "WeatherDelay         0\n",
       "NASDelay             0\n",
       "SecurityDelay        0\n",
       "LateAircraftDelay    0\n",
       "dtype: int64"
      ]
     },
     "execution_count": 49,
     "metadata": {},
     "output_type": "execute_result"
    }
   ],
   "source": [
    "(not_late>1).sum()"
   ]
  },
  {
   "cell_type": "code",
   "execution_count": 57,
   "id": "1626c445-79cf-49b8-8c3b-188113a1cc3b",
   "metadata": {},
   "outputs": [],
   "source": [
    "sample_query = \\\n",
    "    \"\"\"\n",
    "        select \n",
    "          count(*)\n",
    "        from \n",
    "          delay \n",
    "        where \n",
    "          (DepDelay>0 or ArrDelay>0) and (CarrierDelay+WeatherDelay+NASDelay+SecurityDelay+LateAircraftDelay)=0\n",
    "    \"\"\"\n",
    "\n",
    "missing_count = execute_query(connection, sample_query)"
   ]
  },
  {
   "cell_type": "code",
   "execution_count": 58,
   "id": "f268267e-4b9e-4c89-a663-319dd31749c3",
   "metadata": {},
   "outputs": [
    {
     "data": {
      "text/html": [
       "<div>\n",
       "<style scoped>\n",
       "    .dataframe tbody tr th:only-of-type {\n",
       "        vertical-align: middle;\n",
       "    }\n",
       "\n",
       "    .dataframe tbody tr th {\n",
       "        vertical-align: top;\n",
       "    }\n",
       "\n",
       "    .dataframe thead th {\n",
       "        text-align: right;\n",
       "    }\n",
       "</style>\n",
       "<table border=\"1\" class=\"dataframe\">\n",
       "  <thead>\n",
       "    <tr style=\"text-align: right;\">\n",
       "      <th></th>\n",
       "      <th>count(*)</th>\n",
       "    </tr>\n",
       "  </thead>\n",
       "  <tbody>\n",
       "    <tr>\n",
       "      <th>0</th>\n",
       "      <td>38291333</td>\n",
       "    </tr>\n",
       "  </tbody>\n",
       "</table>\n",
       "</div>"
      ],
      "text/plain": [
       "   count(*)\n",
       "0  38291333"
      ]
     },
     "execution_count": 58,
     "metadata": {},
     "output_type": "execute_result"
    }
   ],
   "source": [
    "missing_count"
   ]
  },
  {
   "cell_type": "code",
   "execution_count": 61,
   "id": "955493e7-ff3e-4987-905a-f6ed29f43267",
   "metadata": {},
   "outputs": [],
   "source": [
    "sample_query = \\\n",
    "    \"\"\"\n",
    "        select \n",
    "          count(*)\n",
    "        from \n",
    "          delay \n",
    "        where \n",
    "          (DepDelay>0 or ArrDelay>0) \n",
    "    \"\"\"\n",
    "\n",
    "delays_count = execute_query(connection, sample_query)"
   ]
  },
  {
   "cell_type": "code",
   "execution_count": 63,
   "id": "5ef4d01a-b775-4642-9526-be05731c49fa",
   "metadata": {},
   "outputs": [
    {
     "data": {
      "text/html": [
       "<div>\n",
       "<style scoped>\n",
       "    .dataframe tbody tr th:only-of-type {\n",
       "        vertical-align: middle;\n",
       "    }\n",
       "\n",
       "    .dataframe tbody tr th {\n",
       "        vertical-align: top;\n",
       "    }\n",
       "\n",
       "    .dataframe thead th {\n",
       "        text-align: right;\n",
       "    }\n",
       "</style>\n",
       "<table border=\"1\" class=\"dataframe\">\n",
       "  <thead>\n",
       "    <tr style=\"text-align: right;\">\n",
       "      <th></th>\n",
       "      <th>count(*)</th>\n",
       "    </tr>\n",
       "  </thead>\n",
       "  <tbody>\n",
       "    <tr>\n",
       "      <th>0</th>\n",
       "      <td>0.82075</td>\n",
       "    </tr>\n",
       "  </tbody>\n",
       "</table>\n",
       "</div>"
      ],
      "text/plain": [
       "   count(*)\n",
       "0   0.82075"
      ]
     },
     "execution_count": 63,
     "metadata": {},
     "output_type": "execute_result"
    }
   ],
   "source": [
    "missing_count/delays_count"
   ]
  },
  {
   "cell_type": "markdown",
   "id": "9ecc3010-2281-47f6-9aff-685050be54e2",
   "metadata": {},
   "source": [
    "https://docs.google.com/spreadsheets/d/1qOYd4FlanBMzBeVONpaUvONmv46YaPCB_l2JQbjzvOU/edit?usp=sharing"
   ]
  }
 ],
 "metadata": {
  "kernelspec": {
   "display_name": "Python 3 (ipykernel)",
   "language": "python",
   "name": "python3"
  },
  "language_info": {
   "codemirror_mode": {
    "name": "ipython",
    "version": 3
   },
   "file_extension": ".py",
   "mimetype": "text/x-python",
   "name": "python",
   "nbconvert_exporter": "python",
   "pygments_lexer": "ipython3",
   "version": "3.7.9"
  }
 },
 "nbformat": 4,
 "nbformat_minor": 5
}
