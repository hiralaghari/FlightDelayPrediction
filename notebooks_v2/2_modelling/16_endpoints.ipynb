{
 "cells": [
  {
   "cell_type": "code",
   "execution_count": 1,
   "id": "87edf20c-a02a-402e-b193-1f284edb4a4d",
   "metadata": {},
   "outputs": [],
   "source": [
    "import pandas as pd\n",
    "from joblib import dump, load"
   ]
  },
  {
   "cell_type": "code",
   "execution_count": 2,
   "id": "120c1e5f-9712-427b-959b-ff7f953c7fc1",
   "metadata": {},
   "outputs": [],
   "source": [
    "new_dataset = {'Month': 8,\n",
    " 'DayofMonth': 20,\n",
    " 'DayOfWeek': 1,\n",
    " 'DepHour': 7,\n",
    " 'IATA_CODE_Reporting_Airline': 'YX',\n",
    " 'OriginAirportID': 11624,\n",
    " 'DestAirportID': 13303,\n",
    " 'AirTime': 24,\n",
    " 'DepDelay': -8\n",
    "}"
   ]
  },
  {
   "cell_type": "code",
   "execution_count": 3,
   "id": "4a7130c6-d7e5-4202-ae87-66ee0e6cca02",
   "metadata": {},
   "outputs": [],
   "source": [
    "data_sample = pd.DataFrame.from_dict(new_dataset, orient='index').T"
   ]
  },
  {
   "cell_type": "code",
   "execution_count": 4,
   "id": "e73afa7d-b413-474a-86d0-b8feda9a388d",
   "metadata": {},
   "outputs": [
    {
     "data": {
      "text/html": [
       "<div>\n",
       "<style scoped>\n",
       "    .dataframe tbody tr th:only-of-type {\n",
       "        vertical-align: middle;\n",
       "    }\n",
       "\n",
       "    .dataframe tbody tr th {\n",
       "        vertical-align: top;\n",
       "    }\n",
       "\n",
       "    .dataframe thead th {\n",
       "        text-align: right;\n",
       "    }\n",
       "</style>\n",
       "<table border=\"1\" class=\"dataframe\">\n",
       "  <thead>\n",
       "    <tr style=\"text-align: right;\">\n",
       "      <th></th>\n",
       "      <th>Month</th>\n",
       "      <th>DayofMonth</th>\n",
       "      <th>DayOfWeek</th>\n",
       "      <th>DepHour</th>\n",
       "      <th>IATA_CODE_Reporting_Airline</th>\n",
       "      <th>OriginAirportID</th>\n",
       "      <th>DestAirportID</th>\n",
       "      <th>AirTime</th>\n",
       "      <th>DepDelay</th>\n",
       "    </tr>\n",
       "  </thead>\n",
       "  <tbody>\n",
       "    <tr>\n",
       "      <th>0</th>\n",
       "      <td>8</td>\n",
       "      <td>20</td>\n",
       "      <td>1</td>\n",
       "      <td>7</td>\n",
       "      <td>YX</td>\n",
       "      <td>11624</td>\n",
       "      <td>13303</td>\n",
       "      <td>24</td>\n",
       "      <td>-8</td>\n",
       "    </tr>\n",
       "  </tbody>\n",
       "</table>\n",
       "</div>"
      ],
      "text/plain": [
       "  Month DayofMonth DayOfWeek DepHour IATA_CODE_Reporting_Airline  \\\n",
       "0     8         20         1       7                          YX   \n",
       "\n",
       "  OriginAirportID DestAirportID AirTime DepDelay  \n",
       "0           11624         13303      24       -8  "
      ]
     },
     "execution_count": 4,
     "metadata": {},
     "output_type": "execute_result"
    }
   ],
   "source": [
    "data_sample"
   ]
  },
  {
   "cell_type": "code",
   "execution_count": 5,
   "id": "093c6d68-a5c4-4489-82f3-2595ba8303c2",
   "metadata": {},
   "outputs": [
    {
     "name": "stderr",
     "output_type": "stream",
     "text": [
      "[Parallel(n_jobs=8)]: Using backend ThreadingBackend with 8 concurrent workers.\n",
      "[Parallel(n_jobs=8)]: Done  34 tasks      | elapsed:    0.0s\n",
      "[Parallel(n_jobs=8)]: Done 100 out of 100 | elapsed:    0.0s finished\n"
     ]
    },
    {
     "data": {
      "text/plain": [
       "1"
      ]
     },
     "execution_count": 5,
     "metadata": {},
     "output_type": "execute_result"
    }
   ],
   "source": [
    "X = data_sample.copy()\n",
    "use_delay_param = False\n",
    "\n",
    "categorical_features = ['IATA_CODE_Reporting_Airline', 'OriginAirportID', 'DestAirportID', 'Month', 'DayofMonth', 'DayOfWeek', 'DepHour']\n",
    "\n",
    "one_hot_encoder = load('one_hot_encoder.joblib')\n",
    "\n",
    "if use_delay_param:\n",
    "    standard_scaler = load('standard_scaler_True.joblib') \n",
    "    clf_rf = load('clf_rf_delay_used.joblib') \n",
    "else:\n",
    "    X.drop('DepDelay', axis=1, inplace=True)\n",
    "    standard_scaler = load('standard_scaler_False.joblib') \n",
    "    clf_rf = load('clf_rf_delay_not_used.joblib') \n",
    "    \n",
    "\n",
    "encoded_data_1 = pd.DataFrame(data=one_hot_encoder.transform(X[categorical_features]).toarray(), columns=one_hot_encoder.get_feature_names_out(categorical_features), dtype=int)\n",
    "X = X.drop(categorical_features, axis=1).reset_index(drop=True)\n",
    "X = X.join(encoded_data_1)\n",
    "X = pd.DataFrame(standard_scaler.transform(X), columns=X.columns)\n",
    "clf_rf.predict(X)[0]"
   ]
  }
 ],
 "metadata": {
  "kernelspec": {
   "display_name": "Python 3 (ipykernel)",
   "language": "python",
   "name": "python3"
  },
  "language_info": {
   "codemirror_mode": {
    "name": "ipython",
    "version": 3
   },
   "file_extension": ".py",
   "mimetype": "text/x-python",
   "name": "python",
   "nbconvert_exporter": "python",
   "pygments_lexer": "ipython3",
   "version": "3.7.9"
  }
 },
 "nbformat": 4,
 "nbformat_minor": 5
}
