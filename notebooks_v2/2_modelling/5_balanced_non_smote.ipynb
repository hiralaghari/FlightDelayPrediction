{
 "cells": [
  {
   "cell_type": "markdown",
   "id": "f38fdbea-a48e-47da-925a-2b084c30b7ae",
   "metadata": {},
   "source": [
    "# Notes\n",
    "- Not necessary to balance data like this because other evaluation metrics will catch the issue\n",
    "- Incorrect "
   ]
  },
  {
   "cell_type": "code",
   "execution_count": 1,
   "id": "0682c3a5-724d-4b29-a0f9-2113ded45b44",
   "metadata": {},
   "outputs": [],
   "source": [
    "import numpy as np\n",
    "import pandas as pd\n",
    "import sqlite3\n",
    "from sqlite3 import Error\n",
    "import matplotlib.pyplot as plt\n",
    "import seaborn as sns\n",
    "\n",
    "import imblearn\n",
    "\n",
    "from imblearn.over_sampling import SMOTE\n",
    "\n",
    "\n",
    "from sklearn.model_selection import train_test_split\n",
    "from sklearn.preprocessing import StandardScaler\n",
    "\n",
    "from sklearn.linear_model import LogisticRegression\n",
    "from sklearn.ensemble import RandomForestClassifier\n",
    "\n",
    "from sklearn.metrics import confusion_matrix, classification_report\n",
    "\n",
    "\n",
    "import xgboost as xgb"
   ]
  },
  {
   "cell_type": "code",
   "execution_count": 2,
   "id": "9b7768a4-8481-41ef-b2a6-5a489d692ac5",
   "metadata": {},
   "outputs": [],
   "source": [
    "### download the db from link in readme\n",
    "db_path = \"../../dbs/delays_new.db\""
   ]
  },
  {
   "cell_type": "code",
   "execution_count": 3,
   "id": "cef3aea2-843b-426e-8c44-c3a01036f297",
   "metadata": {},
   "outputs": [],
   "source": [
    "def create_connection(path):\n",
    "    connection = None\n",
    "    try:\n",
    "        connection = sqlite3.connect(path)\n",
    "        connection.text_factory = str\n",
    "    except Error as e:\n",
    "        print(\"Error occurred: \" + str(e))\n",
    "    return connection\n",
    "\n",
    "\n",
    "def execute_query(connection, query):\n",
    "    cursor = connection.cursor()\n",
    "    try:\n",
    "        if query == \"\":\n",
    "            return \"Query Blank\"\n",
    "        else:\n",
    "            df = pd.read_sql_query(query, connection)\n",
    "            return df\n",
    "    except Error as e:\n",
    "        return \"Error occurred: \" + str(e)"
   ]
  },
  {
   "cell_type": "code",
   "execution_count": 4,
   "id": "aaed175b-91e5-4edb-95a9-2e5c5fe46142",
   "metadata": {},
   "outputs": [],
   "source": [
    "def onehot_encode(df, column_dict):\n",
    "    df = df.copy()\n",
    "    for column, prefix in column_dict.items():\n",
    "        dummies = pd.get_dummies(df[column], prefix=prefix)\n",
    "        df = pd.concat([df, dummies], axis=1)\n",
    "        df = df.drop(column, axis=1)\n",
    "    return df"
   ]
  },
  {
   "cell_type": "code",
   "execution_count": 5,
   "id": "446e9b92-47f1-4ce0-b133-f572d353d283",
   "metadata": {},
   "outputs": [],
   "source": [
    "def preprocess_inputs(df):\n",
    "    df = df.copy()\n",
    "    \n",
    "    y = (df.DepDelay>15).astype(int)\n",
    "    \n",
    "    df = df.drop('DepDelay', axis=1)\n",
    "    \n",
    "    # One-hot encode nominal feature columns\n",
    "    X = onehot_encode(\n",
    "        df,\n",
    "        column_dict={\n",
    "            'IATA_CODE_Reporting_Airline': 'AL',\n",
    "            'OriginAirportID': 'OA',\n",
    "            'DestAirportID': 'DA',\n",
    "            'Month': 'M',\n",
    "            'DayofMonth': 'DM',\n",
    "            'DayOfWeek': 'DW',\n",
    "            'DepHour' : 'DH',\n",
    "        }\n",
    "    )\n",
    "    \n",
    "    # Train-test split\n",
    "    X_train, X_test, y_train, y_test = train_test_split(X, y, train_size=0.8, random_state=42)\n",
    "    \n",
    "    # Todo: only apply this to columns that need it    \n",
    "    # Scale X with a standard scaler\n",
    "    scaler = StandardScaler()\n",
    "    scaler.fit(X_train)\n",
    "    \n",
    "    X_train = pd.DataFrame(scaler.transform(X_train), columns=X.columns)\n",
    "    X_test = pd.DataFrame(scaler.transform(X_test), columns=X.columns)\n",
    "   \n",
    "    return X_train, X_test, y_train, y_test"
   ]
  },
  {
   "cell_type": "code",
   "execution_count": 6,
   "id": "e5d1de50-2a03-44fc-bd67-242574028195",
   "metadata": {},
   "outputs": [],
   "source": [
    "def evaluate_model(model, X_test, y_test):\n",
    "    \n",
    "    model_acc = model.score(X_test, y_test)\n",
    "    print(\"Test Accuracy: {:.2f}%\".format(model_acc * 100))\n",
    "    \n",
    "    y_true = np.array(y_test)\n",
    "    y_pred = model.predict(X_test)\n",
    "    \n",
    "    cm = confusion_matrix(y_true, y_pred)\n",
    "    clr = classification_report(y_true, y_pred, target_names=[\"Not Delayed\", \"Delayed\"])\n",
    "    \n",
    "    plt.figure(figsize=(8, 8))\n",
    "    sns.heatmap(cm, annot=True, vmin=0, fmt='g', cmap='Blues', cbar=False)\n",
    "    plt.xticks(np.arange(2) + 0.5, [\"Not Delayed\", \"Delayed\"])\n",
    "    plt.yticks(np.arange(2) + 0.5, [\"Not Delayed\", \"Delayed\"])\n",
    "    plt.xlabel(\"Predicted\")\n",
    "    plt.ylabel(\"Actual\")\n",
    "    plt.title(\"Confusion Matrix\")\n",
    "    plt.show()\n",
    "    \n",
    "    print(\"Classification Report:\\n----------------------\\n\", clr)"
   ]
  },
  {
   "cell_type": "code",
   "execution_count": 7,
   "id": "2f0a2215-33f1-425f-8b06-6013371710af",
   "metadata": {},
   "outputs": [],
   "source": [
    "sample_query = \\\n",
    "    \"\"\"\n",
    "    with delayed as(\n",
    "        select \n",
    "         Month,\n",
    "         DayofMonth,\n",
    "         DayOfWeek,\n",
    "         SUBSTR(CRSDepTime, 1,LENGTH(CRSDepTime)-2) as DepHour,\n",
    "         IATA_CODE_Reporting_Airline,\n",
    "         OriginAirportID,\n",
    "         DestAirportID,\n",
    "         AirTime,\n",
    "         DepDelay\n",
    "        from \n",
    "          delay\n",
    "        where DepDelay>15\n",
    "        and Cancelled=0\n",
    "        order by RANDOM() LIMIT 50000),\n",
    "        \n",
    "    not_delayed as(\n",
    "       select \n",
    "         Month,\n",
    "         DayofMonth,\n",
    "         DayOfWeek,\n",
    "         SUBSTR(CRSDepTime, 1,LENGTH(CRSDepTime)-2) as DepHour,\n",
    "         IATA_CODE_Reporting_Airline,\n",
    "         OriginAirportID,\n",
    "         DestAirportID,\n",
    "         AirTime,\n",
    "         DepDelay\n",
    "        from \n",
    "          delay\n",
    "        where DepDelay<=15\n",
    "        and Cancelled=0\n",
    "        order by RANDOM() LIMIT 50000)\n",
    "        \n",
    "    select * from delayed union select * from not_delayed\n",
    "    \n",
    "    \"\"\"\n",
    "\n",
    "connection = create_connection(db_path)\n",
    "data =  execute_query(connection, sample_query)"
   ]
  },
  {
   "cell_type": "code",
   "execution_count": 8,
   "id": "9aa5354e-d842-4271-8c63-1a945d6be9c6",
   "metadata": {},
   "outputs": [],
   "source": [
    "X_train, X_test, y_train, y_test = preprocess_inputs(data)"
   ]
  },
  {
   "cell_type": "code",
   "execution_count": 9,
   "id": "62a2ec9e-64a4-4c55-b223-ea24d4ddc583",
   "metadata": {},
   "outputs": [
    {
     "name": "stderr",
     "output_type": "stream",
     "text": [
      "[Parallel(n_jobs=-1)]: Using backend ThreadingBackend with 8 concurrent workers.\n",
      "[Parallel(n_jobs=-1)]: Done  34 tasks      | elapsed:    6.0s\n",
      "[Parallel(n_jobs=-1)]: Done 100 out of 100 | elapsed:   16.8s finished\n"
     ]
    },
    {
     "data": {
      "text/plain": [
       "RandomForestClassifier(n_jobs=-1, verbose=1)"
      ]
     },
     "execution_count": 9,
     "metadata": {},
     "output_type": "execute_result"
    }
   ],
   "source": [
    "clf_rf = RandomForestClassifier(n_estimators = 100, verbose=1, n_jobs=-1) \n",
    " \n",
    "# Training the model on the training dataset\n",
    "# fit function is used to train the model using the training sets as parameters\n",
    "clf_rf.fit(X_train, y_train)\n",
    " "
   ]
  },
  {
   "cell_type": "code",
   "execution_count": 10,
   "id": "04ebbdb2-eee5-4a99-b02a-67c395726c0b",
   "metadata": {},
   "outputs": [
    {
     "name": "stderr",
     "output_type": "stream",
     "text": [
      "[Parallel(n_jobs=8)]: Using backend ThreadingBackend with 8 concurrent workers.\n",
      "[Parallel(n_jobs=8)]: Done  34 tasks      | elapsed:    0.1s\n",
      "[Parallel(n_jobs=8)]: Done 100 out of 100 | elapsed:    0.3s finished\n",
      "[Parallel(n_jobs=8)]: Using backend ThreadingBackend with 8 concurrent workers.\n",
      "[Parallel(n_jobs=8)]: Done  34 tasks      | elapsed:    0.1s\n"
     ]
    },
    {
     "name": "stdout",
     "output_type": "stream",
     "text": [
      "Test Accuracy: 61.46%\n"
     ]
    },
    {
     "name": "stderr",
     "output_type": "stream",
     "text": [
      "[Parallel(n_jobs=8)]: Done 100 out of 100 | elapsed:    0.3s finished\n"
     ]
    },
    {
     "data": {
      "image/png": "[encoded data removed]",
      "text/plain": [
       "<Figure size 800x800 with 1 Axes>"
      ]
     },
     "metadata": {},
     "output_type": "display_data"
    },
    {
     "name": "stdout",
     "output_type": "stream",
     "text": [
      "Classification Report:\n",
      "----------------------\n",
      "               precision    recall  f1-score   support\n",
      "\n",
      " Not Delayed       0.62      0.60      0.61      9982\n",
      "     Delayed       0.61      0.63      0.62     10018\n",
      "\n",
      "    accuracy                           0.61     20000\n",
      "   macro avg       0.61      0.61      0.61     20000\n",
      "weighted avg       0.61      0.61      0.61     20000\n",
      "\n"
     ]
    }
   ],
   "source": [
    "evaluate_model(clf_rf, X_test, y_test)"
   ]
  },
  {
   "cell_type": "code",
   "execution_count": 11,
   "id": "8e4efdf2-608c-45e1-8c8b-e08b7f75b4b6",
   "metadata": {},
   "outputs": [
    {
     "name": "stdout",
     "output_type": "stream",
     "text": [
      "Test Accuracy: 62.18%\n"
     ]
    },
    {
     "data": {
      "image/png": "[encoded data removed]",
      "text/plain": [
       "<Figure size 800x800 with 1 Axes>"
      ]
     },
     "metadata": {},
     "output_type": "display_data"
    },
    {
     "name": "stdout",
     "output_type": "stream",
     "text": [
      "Classification Report:\n",
      "----------------------\n",
      "               precision    recall  f1-score   support\n",
      "\n",
      " Not Delayed       0.63      0.58      0.61      9982\n",
      "     Delayed       0.61      0.66      0.64     10018\n",
      "\n",
      "    accuracy                           0.62     20000\n",
      "   macro avg       0.62      0.62      0.62     20000\n",
      "weighted avg       0.62      0.62      0.62     20000\n",
      "\n"
     ]
    }
   ],
   "source": [
    "# xgb_cl = xgb.XGBClassifier()\n",
    "\n",
    "# # Fit\n",
    "# xgb_cl.fit(X_train, y_train)\n",
    "\n",
    "# evaluate_model(xgb_cl, X_test, y_test)"
   ]
  }
 ],
 "metadata": {
  "kernelspec": {
   "display_name": "Python 3 (ipykernel)",
   "language": "python",
   "name": "python3"
  },
  "language_info": {
   "codemirror_mode": {
    "name": "ipython",
    "version": 3
   },
   "file_extension": ".py",
   "mimetype": "text/x-python",
   "name": "python",
   "nbconvert_exporter": "python",
   "pygments_lexer": "ipython3",
   "version": "3.7.9"
  }
 },
 "nbformat": 4,
 "nbformat_minor": 5
}
