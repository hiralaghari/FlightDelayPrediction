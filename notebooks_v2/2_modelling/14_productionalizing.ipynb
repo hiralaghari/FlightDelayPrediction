{
 "cells": [
  {
   "cell_type": "markdown",
   "id": "71fe7e15-db61-4198-92cb-e40053841c1f",
   "metadata": {},
   "source": [
    "# Notes\n",
    "- uses the new dataset (correct one)\n",
    "- has two versions\n",
    "- pickles everything\n",
    "- tests on new dataset"
   ]
  },
  {
   "cell_type": "code",
   "execution_count": 1,
   "id": "0682c3a5-724d-4b29-a0f9-2113ded45b44",
   "metadata": {},
   "outputs": [],
   "source": [
    "import numpy as np\n",
    "import pandas as pd\n",
    "\n",
    "import sqlite3\n",
    "from sqlite3 import Error\n",
    "\n",
    "import matplotlib.pyplot as plt\n",
    "import seaborn as sns\n",
    "\n",
    "import imblearn\n",
    "from imblearn.over_sampling import SMOTE\n",
    "from sklearn.model_selection import train_test_split\n",
    "from sklearn.preprocessing import StandardScaler\n",
    "from sklearn.linear_model import LogisticRegression\n",
    "from sklearn.ensemble import RandomForestClassifier\n",
    "from sklearn.metrics import confusion_matrix, classification_report\n",
    "from sklearn.preprocessing import OneHotEncoder\n",
    "\n",
    "from joblib import dump, load"
   ]
  },
  {
   "cell_type": "code",
   "execution_count": 2,
   "id": "9b7768a4-8481-41ef-b2a6-5a489d692ac5",
   "metadata": {},
   "outputs": [],
   "source": [
    "db_path = \"../../dbs/delays_new.db\""
   ]
  },
  {
   "cell_type": "code",
   "execution_count": 3,
   "id": "cef3aea2-843b-426e-8c44-c3a01036f297",
   "metadata": {},
   "outputs": [],
   "source": [
    "def create_connection(path):\n",
    "    connection = None\n",
    "    try:\n",
    "        connection = sqlite3.connect(path)\n",
    "        connection.text_factory = str\n",
    "    except Error as e:\n",
    "        print(\"Error occurred: \" + str(e))\n",
    "    return connection\n",
    "\n",
    "\n",
    "def execute_query(connection, query):\n",
    "    cursor = connection.cursor()\n",
    "    try:\n",
    "        if query == \"\":\n",
    "            return \"Query Blank\"\n",
    "        else:\n",
    "            df = pd.read_sql_query(query, connection)\n",
    "            return df\n",
    "    except Error as e:\n",
    "        return \"Error occurred: \" + str(e)"
   ]
  },
  {
   "cell_type": "code",
   "execution_count": 4,
   "id": "446e9b92-47f1-4ce0-b133-f572d353d283",
   "metadata": {},
   "outputs": [],
   "source": [
    "def preprocess_inputs(df, use_departure_delay):\n",
    "    \n",
    "    df = df.copy()\n",
    "    \n",
    "    categorical_features = ['IATA_CODE_Reporting_Airline', 'OriginAirportID', 'DestAirportID', 'Month', 'DayofMonth', 'DayOfWeek', 'DepHour']\n",
    "    \n",
    "    if (not use_departure_delay):\n",
    "        df = df.drop('DepDelay', axis=1)\n",
    "    \n",
    "    y = (df.ArrDelay>15).astype(int)\n",
    "    X = df.drop('ArrDelay', axis=1)\n",
    "    \n",
    "    # Train-test split\n",
    "    X_train, X_test, y_train, y_test = train_test_split(X, y, train_size=0.8, random_state=42)\n",
    "\n",
    "    categorical_train = X_train[categorical_features]\n",
    "    \n",
    "    one_hot_encoder = OneHotEncoder(handle_unknown='ignore')\n",
    "    one_hot_encoder.fit(categorical_train)\n",
    "\n",
    "    encoded_train = pd.DataFrame(data=one_hot_encoder.transform(categorical_train).toarray(), columns=one_hot_encoder.get_feature_names_out(categorical_features), dtype=int)\n",
    "    X_train = X_train.drop(categorical_features, axis=1).reset_index(drop=True)\n",
    "    X_train = X_train.join(encoded_train)\n",
    "    \n",
    "    dump(one_hot_encoder, 'one_hot_encoder.joblib') \n",
    "    one_hot_encoder = load('one_hot_encoder.joblib') \n",
    "    \n",
    "    \n",
    "    categorical_test = X_test[categorical_features]\n",
    "    \n",
    "    encoded_test = pd.DataFrame(data=one_hot_encoder.transform(categorical_test).toarray(), columns=one_hot_encoder.get_feature_names_out(categorical_features), dtype=int)\n",
    "    X_test = X_test.drop(categorical_features, axis=1).reset_index(drop=True)\n",
    "    X_test = X_test.join(encoded_test)\n",
    "    \n",
    "    smote = SMOTE()\n",
    "    X_train, y_train = smote.fit_resample(X_train, y_train)\n",
    "   \n",
    " \n",
    "    # Scale X with a standard scaler\n",
    "    standard_scaler = StandardScaler()\n",
    "    standard_scaler.fit(X_train)\n",
    "        \n",
    "    dump(standard_scaler, 'standard_scaler_'+str(use_departure_delay)+'.joblib') \n",
    "    standard_scaler = load('standard_scaler_'+str(use_departure_delay)+'.joblib') \n",
    "    \n",
    "    X_train = pd.DataFrame(standard_scaler.transform(X_train), columns=X_train.columns)\n",
    "    X_test = pd.DataFrame(standard_scaler.transform(X_test), columns=X_test.columns)\n",
    "   \n",
    "    return X_train, X_test, y_train, y_test"
   ]
  },
  {
   "cell_type": "code",
   "execution_count": 5,
   "id": "e5d1de50-2a03-44fc-bd67-242574028195",
   "metadata": {},
   "outputs": [],
   "source": [
    "def evaluate_model(model, X_test, y_test):\n",
    "    \n",
    "    model_acc = model.score(X_test, y_test)\n",
    "    print(\"Test Accuracy: {:.2f}%\".format(model_acc * 100))\n",
    "    \n",
    "    y_true = np.array(y_test)\n",
    "    y_pred = model.predict(X_test)\n",
    "    \n",
    "    cm = confusion_matrix(y_true, y_pred)\n",
    "    clr = classification_report(y_true, y_pred, target_names=[\"Not Delayed\", \"Delayed\"])\n",
    "    \n",
    "    plt.figure(figsize=(8, 8))\n",
    "    sns.heatmap(cm, annot=True, vmin=0, fmt='g', cmap='Blues', cbar=False)\n",
    "    plt.xticks(np.arange(2) + 0.5, [\"Not Delayed\", \"Delayed\"])\n",
    "    plt.yticks(np.arange(2) + 0.5, [\"Not Delayed\", \"Delayed\"])\n",
    "    plt.xlabel(\"Predicted\")\n",
    "    plt.ylabel(\"Actual\")\n",
    "    plt.title(\"Confusion Matrix\")\n",
    "    plt.show()\n",
    "    \n",
    "    print(\"Classification Report:\\n----------------------\\n\", clr)"
   ]
  },
  {
   "cell_type": "code",
   "execution_count": 6,
   "id": "2f0a2215-33f1-425f-8b06-6013371710af",
   "metadata": {},
   "outputs": [],
   "source": [
    "sample_query = \\\n",
    "    \"\"\"\n",
    "        select \n",
    "         Month,\n",
    "         DayofMonth,\n",
    "         DayOfWeek,\n",
    "         SUBSTR(CRSDepTime, 1, LENGTH(CRSDepTime)-2) as DepHour,\n",
    "         IATA_CODE_Reporting_Airline,\n",
    "         OriginAirportID,\n",
    "         DestAirportID,\n",
    "         AirTime,\n",
    "         DepDelay,\n",
    "         ArrDelay\n",
    "        from \n",
    "          delay\n",
    "         where Cancelled = 0  \n",
    "         and AirTime > 0 \n",
    "        order by RANDOM() LIMIT 1000000\n",
    "    \"\"\"\n",
    "\n",
    "connection = create_connection(db_path)\n",
    "data =  execute_query(connection, sample_query)"
   ]
  },
  {
   "cell_type": "code",
   "execution_count": 7,
   "id": "e06ee114-2de6-4ce3-8740-a3196ef72133",
   "metadata": {},
   "outputs": [
    {
     "name": "stderr",
     "output_type": "stream",
     "text": [
      "[Parallel(n_jobs=-1)]: Using backend ThreadingBackend with 8 concurrent workers.\n",
      "[Parallel(n_jobs=-1)]: Done  34 tasks      | elapsed:  1.0min\n",
      "[Parallel(n_jobs=-1)]: Done 100 out of 100 | elapsed:  2.5min finished\n",
      "[Parallel(n_jobs=8)]: Using backend ThreadingBackend with 8 concurrent workers.\n",
      "[Parallel(n_jobs=8)]: Done  34 tasks      | elapsed:    0.3s\n",
      "[Parallel(n_jobs=8)]: Done 100 out of 100 | elapsed:    0.8s finished\n"
     ]
    },
    {
     "name": "stdout",
     "output_type": "stream",
     "text": [
      "Test Accuracy: 72.06%\n"
     ]
    },
    {
     "name": "stderr",
     "output_type": "stream",
     "text": [
      "[Parallel(n_jobs=8)]: Using backend ThreadingBackend with 8 concurrent workers.\n",
      "[Parallel(n_jobs=8)]: Done  34 tasks      | elapsed:    0.3s\n",
      "[Parallel(n_jobs=8)]: Done 100 out of 100 | elapsed:    0.8s finished\n"
     ]
    },
    {
     "data": {
      "image/png": "[encoded data removed]",
      "text/plain": [
       "<Figure size 800x800 with 1 Axes>"
      ]
     },
     "metadata": {},
     "output_type": "display_data"
    },
    {
     "name": "stdout",
     "output_type": "stream",
     "text": [
      "Classification Report:\n",
      "----------------------\n",
      "               precision    recall  f1-score   support\n",
      "\n",
      " Not Delayed       0.86      0.79      0.82    165175\n",
      "     Delayed       0.28      0.38      0.32     34825\n",
      "\n",
      "    accuracy                           0.72    200000\n",
      "   macro avg       0.57      0.59      0.57    200000\n",
      "weighted avg       0.76      0.72      0.74    200000\n",
      "\n"
     ]
    }
   ],
   "source": [
    "X_train, X_test, y_train, y_test = preprocess_inputs(data, use_departure_delay=False)\n",
    "clf_rf_delay_not_used = RandomForestClassifier(max_depth=20, n_estimators = 100, verbose=1, n_jobs=-1) \n",
    "clf_rf_delay_not_used.fit(X_train, y_train)\n",
    "\n",
    "dump(clf_rf_delay_not_used, 'clf_rf_delay_not_used.joblib') \n",
    "clf_rf_delay_not_used = load('clf_rf_delay_not_used.joblib') \n",
    "evaluate_model(clf_rf_delay_not_used, X_test, y_test)"
   ]
  },
  {
   "cell_type": "code",
   "execution_count": 8,
   "id": "1314df52-0287-45e4-8087-9109665b57f3",
   "metadata": {},
   "outputs": [
    {
     "name": "stderr",
     "output_type": "stream",
     "text": [
      "[Parallel(n_jobs=-1)]: Using backend ThreadingBackend with 8 concurrent workers.\n",
      "[Parallel(n_jobs=-1)]: Done  34 tasks      | elapsed:   49.0s\n",
      "[Parallel(n_jobs=-1)]: Done 100 out of 100 | elapsed:  2.1min finished\n",
      "[Parallel(n_jobs=8)]: Using backend ThreadingBackend with 8 concurrent workers.\n",
      "[Parallel(n_jobs=8)]: Done  34 tasks      | elapsed:    0.3s\n",
      "[Parallel(n_jobs=8)]: Done 100 out of 100 | elapsed:    0.8s finished\n"
     ]
    },
    {
     "name": "stdout",
     "output_type": "stream",
     "text": [
      "Test Accuracy: 92.56%\n"
     ]
    },
    {
     "name": "stderr",
     "output_type": "stream",
     "text": [
      "[Parallel(n_jobs=8)]: Using backend ThreadingBackend with 8 concurrent workers.\n",
      "[Parallel(n_jobs=8)]: Done  34 tasks      | elapsed:    0.3s\n",
      "[Parallel(n_jobs=8)]: Done 100 out of 100 | elapsed:    0.7s finished\n"
     ]
    },
    {
     "data": {
      "image/png": "[encoded data removed]",
      "text/plain": [
       "<Figure size 800x800 with 1 Axes>"
      ]
     },
     "metadata": {},
     "output_type": "display_data"
    },
    {
     "name": "stdout",
     "output_type": "stream",
     "text": [
      "Classification Report:\n",
      "----------------------\n",
      "               precision    recall  f1-score   support\n",
      "\n",
      " Not Delayed       0.95      0.96      0.95    165175\n",
      "     Delayed       0.79      0.78      0.79     34825\n",
      "\n",
      "    accuracy                           0.93    200000\n",
      "   macro avg       0.87      0.87      0.87    200000\n",
      "weighted avg       0.93      0.93      0.93    200000\n",
      "\n"
     ]
    }
   ],
   "source": [
    "X_train, X_test, y_train, y_test = preprocess_inputs(data, use_departure_delay=True)\n",
    "clf_rf_delay_used = RandomForestClassifier(max_depth=20, n_estimators = 100, verbose=1, n_jobs=-1) \n",
    "clf_rf_delay_used.fit(X_train, y_train)\n",
    "\n",
    "dump(clf_rf_delay_used, 'clf_rf_delay_used.joblib') \n",
    "clf_rf_delay_used = load('clf_rf_delay_used.joblib') \n",
    "evaluate_model(clf_rf_delay_used, X_test, y_test)"
   ]
  }
 ],
 "metadata": {
  "kernelspec": {
   "display_name": "Python 3 (ipykernel)",
   "language": "python",
   "name": "python3"
  },
  "language_info": {
   "codemirror_mode": {
    "name": "ipython",
    "version": 3
   },
   "file_extension": ".py",
   "mimetype": "text/x-python",
   "name": "python",
   "nbconvert_exporter": "python",
   "pygments_lexer": "ipython3",
   "version": "3.7.9"
  }
 },
 "nbformat": 4,
 "nbformat_minor": 5
}
