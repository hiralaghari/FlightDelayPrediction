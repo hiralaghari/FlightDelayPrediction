{
 "cells": [
  {
   "cell_type": "markdown",
   "id": "be53f434-6e44-48f8-9740-f023b1deeb38",
   "metadata": {},
   "source": [
    "# Notes\n",
    "\n",
    "- This is interesting, but useless"
   ]
  },
  {
   "cell_type": "code",
   "execution_count": 1,
   "id": "460b9f16-3bea-41b1-bb9e-38e38fbc2e1c",
   "metadata": {},
   "outputs": [],
   "source": [
    "import numpy as np\n",
    "import pandas as pd\n",
    "import sqlite3\n",
    "from sqlite3 import Error\n",
    "import matplotlib.pyplot as plt\n",
    "import seaborn as sns\n",
    "\n",
    "import imblearn\n",
    "\n",
    "from imblearn.over_sampling import SMOTE\n",
    "\n",
    "\n",
    "from sklearn.model_selection import train_test_split\n",
    "from sklearn.preprocessing import StandardScaler\n",
    "\n",
    "from sklearn.linear_model import LogisticRegression\n",
    "from sklearn.ensemble import RandomForestClassifier\n",
    "\n",
    "from sklearn.metrics import confusion_matrix, classification_report\n",
    "\n",
    "\n",
    "import xgboost as xgb"
   ]
  },
  {
   "cell_type": "code",
   "execution_count": 2,
   "id": "9b7768a4-8481-41ef-b2a6-5a489d692ac5",
   "metadata": {},
   "outputs": [],
   "source": [
    "### download the db from link in readme\n",
    "db_path = \"../../dbs/delays_new.db\""
   ]
  },
  {
   "cell_type": "code",
   "execution_count": 3,
   "id": "cef3aea2-843b-426e-8c44-c3a01036f297",
   "metadata": {},
   "outputs": [],
   "source": [
    "def create_connection(path):\n",
    "    connection = None\n",
    "    try:\n",
    "        connection = sqlite3.connect(path)\n",
    "        connection.text_factory = str\n",
    "    except Error as e:\n",
    "        print(\"Error occurred: \" + str(e))\n",
    "    return connection\n",
    "\n",
    "\n",
    "def execute_query(connection, query):\n",
    "    cursor = connection.cursor()\n",
    "    try:\n",
    "        if query == \"\":\n",
    "            return \"Query Blank\"\n",
    "        else:\n",
    "            df = pd.read_sql_query(query, connection)\n",
    "            return df\n",
    "    except Error as e:\n",
    "        return \"Error occurred: \" + str(e)"
   ]
  },
  {
   "cell_type": "code",
   "execution_count": 4,
   "id": "aaed175b-91e5-4edb-95a9-2e5c5fe46142",
   "metadata": {},
   "outputs": [],
   "source": [
    "def onehot_encode(df, column_dict):\n",
    "    df = df.copy()\n",
    "    for column, prefix in column_dict.items():\n",
    "        dummies = pd.get_dummies(df[column], prefix=prefix)\n",
    "        df = pd.concat([df, dummies], axis=1)\n",
    "        df = df.drop(column, axis=1)\n",
    "    return df"
   ]
  },
  {
   "cell_type": "code",
   "execution_count": 5,
   "id": "446e9b92-47f1-4ce0-b133-f572d353d283",
   "metadata": {},
   "outputs": [],
   "source": [
    "def preprocess_inputs(df):\n",
    "    df = df.copy()\n",
    "    \n",
    "    y = (df.ArrDelay>15).astype(int)\n",
    "    \n",
    "    df = df.drop('ArrDelay', axis=1)\n",
    "    \n",
    "    # One-hot encode nominal feature columns\n",
    "    X = onehot_encode(\n",
    "        df,\n",
    "        column_dict={\n",
    "            'IATA_CODE_Reporting_Airline': 'AL',\n",
    "            'OriginAirportID': 'OA',\n",
    "            'DestAirportID': 'DA',\n",
    "            'Month': 'M',\n",
    "            'DayofMonth': 'DM',\n",
    "            'DayOfWeek': 'DW',\n",
    "            'DepHour' : 'DH'\n",
    "        }\n",
    "    )\n",
    "    \n",
    "    # Train-test split\n",
    "    X_train, X_test, y_train, y_test = train_test_split(X, y, train_size=0.8, random_state=42)\n",
    "    \n",
    "    # Todo: only apply this to columns that need it    \n",
    "    # Scale X with a standard scaler\n",
    "    scaler = StandardScaler()\n",
    "    scaler.fit(X_train)\n",
    "    \n",
    "    X_train = pd.DataFrame(scaler.transform(X_train), columns=X.columns)\n",
    "    X_test = pd.DataFrame(scaler.transform(X_test), columns=X.columns)\n",
    "   \n",
    "    return X_train, X_test, y_train, y_test"
   ]
  },
  {
   "cell_type": "code",
   "execution_count": 6,
   "id": "e5d1de50-2a03-44fc-bd67-242574028195",
   "metadata": {},
   "outputs": [],
   "source": [
    "def evaluate_model(model, X_test, y_test):\n",
    "    \n",
    "    model_acc = model.score(X_test, y_test)\n",
    "    print(\"Test Accuracy: {:.2f}%\".format(model_acc * 100))\n",
    "    \n",
    "    y_true = np.array(y_test)\n",
    "    y_pred = model.predict(X_test)\n",
    "    \n",
    "    cm = confusion_matrix(y_true, y_pred)\n",
    "    clr = classification_report(y_true, y_pred, target_names=[\"Not Delayed\", \"Delayed\"])\n",
    "    \n",
    "    plt.figure(figsize=(8, 8))\n",
    "    sns.heatmap(cm, annot=True, vmin=0, fmt='g', cmap='Blues', cbar=False)\n",
    "    plt.xticks(np.arange(2) + 0.5, [\"Not Delayed\", \"Delayed\"])\n",
    "    plt.yticks(np.arange(2) + 0.5, [\"Not Delayed\", \"Delayed\"])\n",
    "    plt.xlabel(\"Predicted\")\n",
    "    plt.ylabel(\"Actual\")\n",
    "    plt.title(\"Confusion Matrix\")\n",
    "    plt.show()\n",
    "    \n",
    "    print(\"Classification Report:\\n----------------------\\n\", clr)"
   ]
  },
  {
   "cell_type": "code",
   "execution_count": 7,
   "id": "e91c48a5-311f-40b7-a0ea-1b4ee83ad92a",
   "metadata": {},
   "outputs": [],
   "source": [
    "sample_query = \\\n",
    "    \"\"\"\n",
    "    with delayed as(\n",
    "        select \n",
    "         Month,\n",
    "         DayofMonth,\n",
    "         DayOfWeek,\n",
    "         SUBSTR(CRSDepTime, 1,LENGTH(CRSDepTime)-2) as DepHour,\n",
    "         IATA_CODE_Reporting_Airline,\n",
    "         OriginAirportID,\n",
    "         DestAirportID,\n",
    "         AirTime,\n",
    "         ArrDelay\n",
    "        from \n",
    "          delay\n",
    "        where ArrDelay>15\n",
    "        and AirTime>0\n",
    "        and OriginAirportID=13930\n",
    "        and Cancelled = 0\n",
    "        order by RANDOM() LIMIT 100000),\n",
    "        \n",
    "    not_delayed as(\n",
    "       select \n",
    "         Month,\n",
    "         DayofMonth,\n",
    "         DayOfWeek,\n",
    "         SUBSTR(CRSDepTime, 1,LENGTH(CRSDepTime)-2) as DepHour,\n",
    "         IATA_CODE_Reporting_Airline,\n",
    "         OriginAirportID,\n",
    "         DestAirportID,\n",
    "         AirTime,\n",
    "         ArrDelay\n",
    "        from \n",
    "          delay\n",
    "        where ArrDelay<=15\n",
    "        and OriginAirportID=13930\n",
    "        and Cancelled = 0\n",
    "        and AirTime>0\n",
    "        order by RANDOM() LIMIT 100000)\n",
    "        \n",
    "    select * from delayed union select * from not_delayed\n",
    "    \n",
    "    \"\"\"\n",
    "\n",
    "connection = create_connection(db_path)\n",
    "data =  execute_query(connection, sample_query)"
   ]
  },
  {
   "cell_type": "code",
   "execution_count": 8,
   "id": "9e7ffea9-2726-4750-95cd-34f61243f256",
   "metadata": {},
   "outputs": [
    {
     "data": {
      "text/html": [
       "<div>\n",
       "<style scoped>\n",
       "    .dataframe tbody tr th:only-of-type {\n",
       "        vertical-align: middle;\n",
       "    }\n",
       "\n",
       "    .dataframe tbody tr th {\n",
       "        vertical-align: top;\n",
       "    }\n",
       "\n",
       "    .dataframe thead th {\n",
       "        text-align: right;\n",
       "    }\n",
       "</style>\n",
       "<table border=\"1\" class=\"dataframe\">\n",
       "  <thead>\n",
       "    <tr style=\"text-align: right;\">\n",
       "      <th></th>\n",
       "      <th>Month</th>\n",
       "      <th>DayofMonth</th>\n",
       "      <th>DayOfWeek</th>\n",
       "      <th>DepHour</th>\n",
       "      <th>IATA_CODE_Reporting_Airline</th>\n",
       "      <th>OriginAirportID</th>\n",
       "      <th>DestAirportID</th>\n",
       "      <th>AirTime</th>\n",
       "      <th>ArrDelay</th>\n",
       "    </tr>\n",
       "  </thead>\n",
       "  <tbody>\n",
       "    <tr>\n",
       "      <th>0</th>\n",
       "      <td>1</td>\n",
       "      <td>1</td>\n",
       "      <td>1</td>\n",
       "      <td>10</td>\n",
       "      <td>AA</td>\n",
       "      <td>13930</td>\n",
       "      <td>14107</td>\n",
       "      <td>205</td>\n",
       "      <td>-9</td>\n",
       "    </tr>\n",
       "    <tr>\n",
       "      <th>1</th>\n",
       "      <td>1</td>\n",
       "      <td>1</td>\n",
       "      <td>1</td>\n",
       "      <td>10</td>\n",
       "      <td>AA</td>\n",
       "      <td>13930</td>\n",
       "      <td>14869</td>\n",
       "      <td>181</td>\n",
       "      <td>49</td>\n",
       "    </tr>\n",
       "    <tr>\n",
       "      <th>2</th>\n",
       "      <td>1</td>\n",
       "      <td>1</td>\n",
       "      <td>1</td>\n",
       "      <td>10</td>\n",
       "      <td>DL</td>\n",
       "      <td>13930</td>\n",
       "      <td>10397</td>\n",
       "      <td>85</td>\n",
       "      <td>216</td>\n",
       "    </tr>\n",
       "    <tr>\n",
       "      <th>3</th>\n",
       "      <td>1</td>\n",
       "      <td>1</td>\n",
       "      <td>1</td>\n",
       "      <td>10</td>\n",
       "      <td>MQ</td>\n",
       "      <td>13930</td>\n",
       "      <td>12992</td>\n",
       "      <td>80</td>\n",
       "      <td>-15</td>\n",
       "    </tr>\n",
       "    <tr>\n",
       "      <th>4</th>\n",
       "      <td>1</td>\n",
       "      <td>1</td>\n",
       "      <td>1</td>\n",
       "      <td>10</td>\n",
       "      <td>MQ</td>\n",
       "      <td>13930</td>\n",
       "      <td>13244</td>\n",
       "      <td>72</td>\n",
       "      <td>11</td>\n",
       "    </tr>\n",
       "    <tr>\n",
       "      <th>...</th>\n",
       "      <td>...</td>\n",
       "      <td>...</td>\n",
       "      <td>...</td>\n",
       "      <td>...</td>\n",
       "      <td>...</td>\n",
       "      <td>...</td>\n",
       "      <td>...</td>\n",
       "      <td>...</td>\n",
       "      <td>...</td>\n",
       "    </tr>\n",
       "    <tr>\n",
       "      <th>199995</th>\n",
       "      <td>12</td>\n",
       "      <td>31</td>\n",
       "      <td>7</td>\n",
       "      <td>8</td>\n",
       "      <td>OO</td>\n",
       "      <td>13930</td>\n",
       "      <td>15412</td>\n",
       "      <td>65</td>\n",
       "      <td>-17</td>\n",
       "    </tr>\n",
       "    <tr>\n",
       "      <th>199996</th>\n",
       "      <td>12</td>\n",
       "      <td>31</td>\n",
       "      <td>7</td>\n",
       "      <td>9</td>\n",
       "      <td>EV</td>\n",
       "      <td>13930</td>\n",
       "      <td>11423</td>\n",
       "      <td>58</td>\n",
       "      <td>-4</td>\n",
       "    </tr>\n",
       "    <tr>\n",
       "      <th>199997</th>\n",
       "      <td>12</td>\n",
       "      <td>31</td>\n",
       "      <td>7</td>\n",
       "      <td>9</td>\n",
       "      <td>OO</td>\n",
       "      <td>13930</td>\n",
       "      <td>11076</td>\n",
       "      <td>62</td>\n",
       "      <td>-14</td>\n",
       "    </tr>\n",
       "    <tr>\n",
       "      <th>199998</th>\n",
       "      <td>12</td>\n",
       "      <td>31</td>\n",
       "      <td>7</td>\n",
       "      <td>9</td>\n",
       "      <td>OO</td>\n",
       "      <td>13930</td>\n",
       "      <td>15370</td>\n",
       "      <td>94</td>\n",
       "      <td>11</td>\n",
       "    </tr>\n",
       "    <tr>\n",
       "      <th>199999</th>\n",
       "      <td>12</td>\n",
       "      <td>31</td>\n",
       "      <td>7</td>\n",
       "      <td>9</td>\n",
       "      <td>UA</td>\n",
       "      <td>13930</td>\n",
       "      <td>11292</td>\n",
       "      <td>138</td>\n",
       "      <td>6</td>\n",
       "    </tr>\n",
       "  </tbody>\n",
       "</table>\n",
       "<p>200000 rows × 9 columns</p>\n",
       "</div>"
      ],
      "text/plain": [
       "        Month  DayofMonth  DayOfWeek DepHour IATA_CODE_Reporting_Airline  \\\n",
       "0           1           1          1      10                          AA   \n",
       "1           1           1          1      10                          AA   \n",
       "2           1           1          1      10                          DL   \n",
       "3           1           1          1      10                          MQ   \n",
       "4           1           1          1      10                          MQ   \n",
       "...       ...         ...        ...     ...                         ...   \n",
       "199995     12          31          7       8                          OO   \n",
       "199996     12          31          7       9                          EV   \n",
       "199997     12          31          7       9                          OO   \n",
       "199998     12          31          7       9                          OO   \n",
       "199999     12          31          7       9                          UA   \n",
       "\n",
       "        OriginAirportID  DestAirportID  AirTime  ArrDelay  \n",
       "0                 13930          14107      205        -9  \n",
       "1                 13930          14869      181        49  \n",
       "2                 13930          10397       85       216  \n",
       "3                 13930          12992       80       -15  \n",
       "4                 13930          13244       72        11  \n",
       "...                 ...            ...      ...       ...  \n",
       "199995            13930          15412       65       -17  \n",
       "199996            13930          11423       58        -4  \n",
       "199997            13930          11076       62       -14  \n",
       "199998            13930          15370       94        11  \n",
       "199999            13930          11292      138         6  \n",
       "\n",
       "[200000 rows x 9 columns]"
      ]
     },
     "execution_count": 8,
     "metadata": {},
     "output_type": "execute_result"
    }
   ],
   "source": [
    "data"
   ]
  },
  {
   "cell_type": "code",
   "execution_count": 9,
   "id": "9aa5354e-d842-4271-8c63-1a945d6be9c6",
   "metadata": {},
   "outputs": [],
   "source": [
    "X_train, X_test, y_train, y_test = preprocess_inputs(data)"
   ]
  },
  {
   "cell_type": "code",
   "execution_count": 10,
   "id": "62a2ec9e-64a4-4c55-b223-ea24d4ddc583",
   "metadata": {},
   "outputs": [
    {
     "name": "stderr",
     "output_type": "stream",
     "text": [
      "[Parallel(n_jobs=-1)]: Using backend ThreadingBackend with 8 concurrent workers.\n",
      "[Parallel(n_jobs=-1)]: Done  34 tasks      | elapsed:    9.5s\n",
      "[Parallel(n_jobs=-1)]: Done 100 out of 100 | elapsed:   27.3s finished\n"
     ]
    },
    {
     "data": {
      "text/plain": [
       "RandomForestClassifier(n_jobs=-1, verbose=1)"
      ]
     },
     "execution_count": 10,
     "metadata": {},
     "output_type": "execute_result"
    }
   ],
   "source": [
    "clf_rf = RandomForestClassifier(n_estimators = 100, verbose=1, n_jobs=-1) \n",
    " \n",
    "# Training the model on the training dataset\n",
    "# fit function is used to train the model using the training sets as parameters\n",
    "clf_rf.fit(X_train, y_train)\n",
    " "
   ]
  },
  {
   "cell_type": "code",
   "execution_count": 11,
   "id": "04ebbdb2-eee5-4a99-b02a-67c395726c0b",
   "metadata": {},
   "outputs": [
    {
     "name": "stderr",
     "output_type": "stream",
     "text": [
      "[Parallel(n_jobs=8)]: Using backend ThreadingBackend with 8 concurrent workers.\n",
      "[Parallel(n_jobs=8)]: Done  34 tasks      | elapsed:    0.5s\n",
      "[Parallel(n_jobs=8)]: Done 100 out of 100 | elapsed:    1.1s finished\n",
      "[Parallel(n_jobs=8)]: Using backend ThreadingBackend with 8 concurrent workers.\n"
     ]
    },
    {
     "name": "stdout",
     "output_type": "stream",
     "text": [
      "Test Accuracy: 65.14%\n"
     ]
    },
    {
     "name": "stderr",
     "output_type": "stream",
     "text": [
      "[Parallel(n_jobs=8)]: Done  34 tasks      | elapsed:    0.2s\n",
      "[Parallel(n_jobs=8)]: Done 100 out of 100 | elapsed:    0.6s finished\n"
     ]
    },
    {
     "data": {
      "image/png": "[encoded data removed]",
      "text/plain": [
       "<Figure size 800x800 with 1 Axes>"
      ]
     },
     "metadata": {},
     "output_type": "display_data"
    },
    {
     "name": "stdout",
     "output_type": "stream",
     "text": [
      "Classification Report:\n",
      "----------------------\n",
      "               precision    recall  f1-score   support\n",
      "\n",
      " Not Delayed       0.65      0.66      0.66     20079\n",
      "     Delayed       0.65      0.64      0.65     19921\n",
      "\n",
      "    accuracy                           0.65     40000\n",
      "   macro avg       0.65      0.65      0.65     40000\n",
      "weighted avg       0.65      0.65      0.65     40000\n",
      "\n"
     ]
    }
   ],
   "source": [
    "evaluate_model(clf_rf, X_test, y_test)"
   ]
  },
  {
   "cell_type": "code",
   "execution_count": 12,
   "id": "8e4efdf2-608c-45e1-8c8b-e08b7f75b4b6",
   "metadata": {},
   "outputs": [
    {
     "name": "stdout",
     "output_type": "stream",
     "text": [
      "Test Accuracy: 63.96%\n"
     ]
    },
    {
     "data": {
      "image/png": "[encoded data removed]",
      "text/plain": [
       "<Figure size 800x800 with 1 Axes>"
      ]
     },
     "metadata": {},
     "output_type": "display_data"
    },
    {
     "name": "stdout",
     "output_type": "stream",
     "text": [
      "Classification Report:\n",
      "----------------------\n",
      "               precision    recall  f1-score   support\n",
      "\n",
      " Not Delayed       0.64      0.65      0.64     20079\n",
      "     Delayed       0.64      0.63      0.64     19921\n",
      "\n",
      "    accuracy                           0.64     40000\n",
      "   macro avg       0.64      0.64      0.64     40000\n",
      "weighted avg       0.64      0.64      0.64     40000\n",
      "\n"
     ]
    }
   ],
   "source": [
    "xgb_cl = xgb.XGBClassifier()\n",
    "\n",
    "# Fit\n",
    "xgb_cl.fit(X_train, y_train)\n",
    "\n",
    "evaluate_model(xgb_cl, X_test, y_test)"
   ]
  }
 ],
 "metadata": {
  "kernelspec": {
   "display_name": "Python 3 (ipykernel)",
   "language": "python",
   "name": "python3"
  },
  "language_info": {
   "codemirror_mode": {
    "name": "ipython",
    "version": 3
   },
   "file_extension": ".py",
   "mimetype": "text/x-python",
   "name": "python",
   "nbconvert_exporter": "python",
   "pygments_lexer": "ipython3",
   "version": "3.7.9"
  }
 },
 "nbformat": 4,
 "nbformat_minor": 5
}
