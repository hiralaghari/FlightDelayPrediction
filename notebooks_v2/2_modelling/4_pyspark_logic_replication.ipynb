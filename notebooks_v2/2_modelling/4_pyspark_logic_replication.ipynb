{
 "cells": [
  {
   "cell_type": "markdown",
   "id": "ab3a63af-237a-47c2-99ab-66280b2cc426",
   "metadata": {},
   "source": [
    "# Notes:\n",
    "- came to the conclusion that we might not need this\n",
    "- if we do, there are plenty of things that need to be fixed here"
   ]
  },
  {
   "cell_type": "code",
   "execution_count": 16,
   "id": "0682c3a5-724d-4b29-a0f9-2113ded45b44",
   "metadata": {},
   "outputs": [],
   "source": [
    "import numpy as np\n",
    "import pandas as pd\n",
    "\n",
    "import matplotlib.pyplot as plt\n",
    "import seaborn as sns\n",
    "\n",
    "import pyspark\n",
    "from pyspark.sql import SparkSession\n",
    "from pyspark.sql.functions import when\n",
    "from pyspark.sql.functions import substring, length, col, expr, trim\n",
    "from pyspark.ml.feature import StringIndexer, OneHotEncoder\n",
    "\n",
    "from pyspark.ml.feature import VectorAssembler\n",
    "from pyspark.ml.classification import RandomForestClassifier\n",
    "from pyspark.ml import Pipeline\n",
    "\n",
    "from sklearn.metrics import accuracy_score, confusion_matrix, classification_report\n",
    "from pyspark.ml.feature import StandardScaler"
   ]
  },
  {
   "cell_type": "code",
   "execution_count": 17,
   "id": "8e4efdf2-608c-45e1-8c8b-e08b7f75b4b6",
   "metadata": {},
   "outputs": [],
   "source": [
    "spark = SparkSession.builder \\\n",
    "    .appName('airlines_delay')\\\n",
    "    .config('spark.jars', '../../jars/snowflake-jdbc-3.13.6.jar, ../../jars/spark-snowflake_2.12-2.9.0-spark_3.1.jar') \\\n",
    "    .getOrCreate()"
   ]
  },
  {
   "cell_type": "code",
   "execution_count": 28,
   "id": "009d389d-3c2c-46b9-b047-2c04735ffbe2",
   "metadata": {},
   "outputs": [],
   "source": [
    "cols = ['Year',\n",
    "    'Quarter',\n",
    "    'Month',\n",
    "    'DayofMonth',\n",
    "    'DayOfWeek',\n",
    "    'FlightDate',\n",
    "    'DOT_ID_Reporting_Airline',\n",
    "    'IATA_CODE_Reporting_Airline',\n",
    "    'Tail_Number',\n",
    "    'Flight_Number_Reporting_Airline',\n",
    "    'OriginAirportID',\n",
    "    'DestAirportID',\n",
    "    'CRSDepTime',\n",
    "    'DepTime',\n",
    "    'DepDelay',\n",
    "    'DepDelayMinutes',\n",
    "    'CRSArrTime',\n",
    "    'ArrTime',\n",
    "    'ArrDelay',\n",
    "    'ArrDelayMinutes',\n",
    "    'Cancelled',\n",
    "    'CancellationCode',\n",
    "    'Diverted',\n",
    "    'CRSElapsedTime',\n",
    "    'ActualElapsedTime',\n",
    "    'AirTime',\n",
    "    'Flights',\n",
    "    'Distance',\n",
    "    'CarrierDelay',\n",
    "    'WeatherDelay',\n",
    "    'NASDelay',\n",
    "    'SecurityDelay',\n",
    "    'LateAircraftDelay'\n",
    "]"
   ]
  },
  {
   "cell_type": "code",
   "execution_count": 29,
   "id": "d334e067-95d0-40fa-9e65-cbe75b7b4f5b",
   "metadata": {},
   "outputs": [],
   "source": [
    "file_path = \"../../datasets/delays_new.csv\"\n",
    "\n",
    "delay = spark.read.csv(file_path, header=False)\n",
    "delay = delay.toDF(*cols)"
   ]
  },
  {
   "cell_type": "code",
   "execution_count": 31,
   "id": "ec0f6e8b-c33e-4ac0-9a2d-9bc540900fdd",
   "metadata": {},
   "outputs": [],
   "source": [
    "delay = delay.sample(False, 0.005, seed=0)"
   ]
  },
  {
   "cell_type": "code",
   "execution_count": 32,
   "id": "0efa41a4-b26e-4ff4-9f34-aeb24e698576",
   "metadata": {},
   "outputs": [
    {
     "data": {
      "text/plain": [
       "DataFrame[Year: string, Quarter: string, Month: string, DayofMonth: string, DayOfWeek: string, FlightDate: string, DOT_ID_Reporting_Airline: string, IATA_CODE_Reporting_Airline: string, Tail_Number: string, Flight_Number_Reporting_Airline: string, OriginAirportID: string, DestAirportID: string, CRSDepTime: string, DepTime: string, DepDelay: string, DepDelayMinutes: string, CRSArrTime: string, ArrTime: string, ArrDelay: string, ArrDelayMinutes: string, Cancelled: string, CancellationCode: string, Diverted: string, CRSElapsedTime: string, ActualElapsedTime: string, AirTime: string, Flights: string, Distance: string, CarrierDelay: string, WeatherDelay: string, NASDelay: string, SecurityDelay: string, LateAircraftDelay: string]"
      ]
     },
     "execution_count": 32,
     "metadata": {},
     "output_type": "execute_result"
    }
   ],
   "source": [
    "delay"
   ]
  },
  {
   "cell_type": "code",
   "execution_count": 33,
   "id": "be93932d-1107-4bd1-a986-1b581712f1fe",
   "metadata": {},
   "outputs": [],
   "source": [
    "delay = delay.withColumn('ArrDelay', delay.ArrDelay.cast('double'))\n",
    "delay = delay.withColumn(\"y\", when(delay.ArrDelay > 30.0, 1.0).otherwise(0.0))"
   ]
  },
  {
   "cell_type": "code",
   "execution_count": 34,
   "id": "3daa9e11-4b45-4240-824f-36269c23d7ba",
   "metadata": {},
   "outputs": [
    {
     "name": "stderr",
     "output_type": "stream",
     "text": [
      "                                                                                \r"
     ]
    }
   ],
   "source": [
    "major_df = delay.filter(delay.y == 0.0)\n",
    "minor_df = delay.filter(delay.y == 1.0)\n",
    "ratio = major_df.count()/minor_df.count()"
   ]
  },
  {
   "cell_type": "code",
   "execution_count": 35,
   "id": "600171a6-f8ad-4326-a91c-e61d1a03dc5d",
   "metadata": {},
   "outputs": [
    {
     "name": "stdout",
     "output_type": "stream",
     "text": [
      "+----+-----+----------+---------+---------------------------+----------+---+\n",
      "|Year|Month|DayofMonth|DayOfWeek|IATA_CODE_Reporting_Airline|CRSDepTime|  y|\n",
      "+----+-----+----------+---------+---------------------------+----------+---+\n",
      "|2014|    5|        16|        5|                         B6|      1022|0.0|\n",
      "|2014|    5|        16|        5|                         B6|      1055|0.0|\n",
      "|2014|    5|        16|        5|                         B6|      1000|0.0|\n",
      "|2014|    5|        16|        5|                         B6|      1115|0.0|\n",
      "+----+-----+----------+---------+---------------------------+----------+---+\n",
      "only showing top 4 rows\n",
      "\n"
     ]
    }
   ],
   "source": [
    "delay.select(*['Year',\n",
    "             'Month',\n",
    "             'DayofMonth',\n",
    "             'DayOfWeek',\n",
    "             'IATA_CODE_Reporting_Airline',\n",
    "             'CRSDepTime',\n",
    "             'y'\n",
    "           ]).show(4)"
   ]
  },
  {
   "cell_type": "code",
   "execution_count": 36,
   "id": "6e66aa4e-8be6-4339-be62-1bba4e37ebf0",
   "metadata": {},
   "outputs": [
    {
     "data": {
      "text/plain": [
       "8.394708171206226"
      ]
     },
     "execution_count": 36,
     "metadata": {},
     "output_type": "execute_result"
    }
   ],
   "source": [
    "ratio"
   ]
  },
  {
   "cell_type": "code",
   "execution_count": 37,
   "id": "eba7bf96-d855-4215-9a9a-1e86375597e5",
   "metadata": {},
   "outputs": [],
   "source": [
    "sampled_majority_df = major_df.sample(False, 1/ratio)"
   ]
  },
  {
   "cell_type": "code",
   "execution_count": 38,
   "id": "dcb3a6cb-232f-46d5-afd9-7de371a77d97",
   "metadata": {},
   "outputs": [
    {
     "name": "stderr",
     "output_type": "stream",
     "text": [
      "                                                                                \r"
     ]
    },
    {
     "data": {
      "text/plain": [
       "25677"
      ]
     },
     "execution_count": 38,
     "metadata": {},
     "output_type": "execute_result"
    }
   ],
   "source": [
    "sampled_majority_df.count()"
   ]
  },
  {
   "cell_type": "code",
   "execution_count": 39,
   "id": "8525bd72-940e-4937-94cc-f9527cd7d988",
   "metadata": {},
   "outputs": [
    {
     "name": "stderr",
     "output_type": "stream",
     "text": [
      "                                                                                \r"
     ]
    },
    {
     "data": {
      "text/plain": [
       "25700"
      ]
     },
     "execution_count": 39,
     "metadata": {},
     "output_type": "execute_result"
    }
   ],
   "source": [
    "minor_df.count()"
   ]
  },
  {
   "cell_type": "code",
   "execution_count": 40,
   "id": "f4f6e31a-a032-49af-90c3-053cdda7f54c",
   "metadata": {},
   "outputs": [],
   "source": [
    "combined_df = sampled_majority_df.unionAll(minor_df)"
   ]
  },
  {
   "cell_type": "code",
   "execution_count": 41,
   "id": "fb39bb3c-f21c-47a5-9751-421f0121d7d1",
   "metadata": {},
   "outputs": [],
   "source": [
    "def preprocess_inputs(df):\n",
    "    \n",
    "    df = df.withColumn(\"DepHour\", when(length('CRSDepTime') > 2, expr(\"substring(CRSDepTime, 1, length(CRSDepTime)-2)\")).otherwise('0'))\n",
    "\n",
    "    for col_name in ['Distance', 'AirTime']:\n",
    "        df = df.withColumn(col_name, df[col_name].cast('double'))\n",
    "\n",
    "    \n",
    "    df = df.select(*['Year',\n",
    "                     'Month',\n",
    "                     'DayofMonth',\n",
    "                     'DayOfWeek',\n",
    "                     'IATA_CODE_Reporting_Airline',\n",
    "                     'OriginAirportID',\n",
    "                     'DestAirportID',\n",
    "                     'AirTime',\n",
    "                     'DepHour',\n",
    "                     'y'\n",
    "    ])    \n",
    "    return df\n",
    "\n",
    "\n",
    "\n",
    "def gen_preprocessor(df):\n",
    "    cate_cols =  ['Year',\n",
    "                     'Month',\n",
    "                     'DayofMonth',\n",
    "                     'DayOfWeek',\n",
    "                     'IATA_CODE_Reporting_Airline',\n",
    "                     'OriginAirportID',\n",
    "                     'DestAirportID',\n",
    "                     'DepHour'\n",
    "                     ]\n",
    "    \n",
    "    target_col = \"y\"\n",
    "    num_cols = list(set(df.schema.names) - set(cate_cols) - set([target_col]))\n",
    "    \n",
    "    \n",
    "    # String Indexing for categorical features\n",
    "    indexers = [StringIndexer(inputCol=col, \n",
    "                              outputCol=\"{}_idx\".format(col)) \\\n",
    "                              for col in cate_cols]\n",
    "    \n",
    "    # One-hot encoding for categorical features\n",
    "    encoders = [OneHotEncoder(inputCol=\"{}_idx\".format(col), \n",
    "                              outputCol=\"{}_oh\".format(col)) \\\n",
    "                              for col in cate_cols]\n",
    "\n",
    "    # Concat Feature Columns\n",
    "    assembler = VectorAssembler(inputCols = num_cols + \\\n",
    "                            [\"{}_oh\".format(col) for col in cate_cols], \n",
    "                            outputCol = \"_features\")\n",
    "    \n",
    "    # Standardize Features\n",
    "    scaler = StandardScaler(inputCol='_features', \n",
    "                            outputCol='features', \n",
    "                            withStd=True, withMean=False)\n",
    "\n",
    "    preprocessor = Pipeline(stages = indexers + encoders + \\\n",
    "                                     [assembler, scaler]).fit(df)\n",
    "\n",
    "\n",
    "    return preprocessor"
   ]
  },
  {
   "cell_type": "code",
   "execution_count": 42,
   "id": "982340c4-cb6e-41cf-9852-767cf62f5ebb",
   "metadata": {},
   "outputs": [],
   "source": [
    "df = preprocess_inputs(combined_df)"
   ]
  },
  {
   "cell_type": "code",
   "execution_count": 43,
   "id": "7ebba61f-7086-4aa0-986b-a118bac31b07",
   "metadata": {},
   "outputs": [
    {
     "name": "stderr",
     "output_type": "stream",
     "text": [
      "                                                                                \r"
     ]
    }
   ],
   "source": [
    "preprocessor = gen_preprocessor(df)\n",
    "df_transformed = preprocessor.transform(df) "
   ]
  },
  {
   "cell_type": "code",
   "execution_count": 44,
   "id": "795a1b3b-ec7a-47b9-8b44-0d3f157dc76b",
   "metadata": {},
   "outputs": [],
   "source": [
    "rf = RandomForestClassifier(featuresCol='features', labelCol='y', numTrees=100, maxDepth=5)"
   ]
  },
  {
   "cell_type": "code",
   "execution_count": 45,
   "id": "960cb630-0643-46b4-9986-772bec87039e",
   "metadata": {},
   "outputs": [
    {
     "name": "stderr",
     "output_type": "stream",
     "text": [
      "                                                                                \r"
     ]
    }
   ],
   "source": [
    "rf_model = rf.fit(df_transformed)"
   ]
  },
  {
   "cell_type": "code",
   "execution_count": 46,
   "id": "bd075e06-cc7f-4bd4-b6ae-e8a7212676fa",
   "metadata": {},
   "outputs": [],
   "source": [
    "predictions = rf_model.transform(df_transformed)"
   ]
  },
  {
   "cell_type": "code",
   "execution_count": 47,
   "id": "911c32fe-390a-47af-a820-185afb0070e7",
   "metadata": {},
   "outputs": [],
   "source": [
    "preds_vs_labels = predictions.select(\"prediction\", \"y\")\n",
    "preds_vs_labels = preds_vs_labels.withColumn('label', preds_vs_labels['y'])"
   ]
  },
  {
   "cell_type": "code",
   "execution_count": 48,
   "id": "8f438599-cb6f-4ba6-9c64-53bc2a9d59d6",
   "metadata": {},
   "outputs": [
    {
     "name": "stderr",
     "output_type": "stream",
     "text": [
      "                                                                                \r"
     ]
    }
   ],
   "source": [
    "preds_df = preds_vs_labels.toPandas()"
   ]
  },
  {
   "cell_type": "code",
   "execution_count": 49,
   "id": "19b78bca-98a7-4d2f-852e-affa08160939",
   "metadata": {},
   "outputs": [
    {
     "data": {
      "text/html": [
       "<div>\n",
       "<style scoped>\n",
       "    .dataframe tbody tr th:only-of-type {\n",
       "        vertical-align: middle;\n",
       "    }\n",
       "\n",
       "    .dataframe tbody tr th {\n",
       "        vertical-align: top;\n",
       "    }\n",
       "\n",
       "    .dataframe thead th {\n",
       "        text-align: right;\n",
       "    }\n",
       "</style>\n",
       "<table border=\"1\" class=\"dataframe\">\n",
       "  <thead>\n",
       "    <tr style=\"text-align: right;\">\n",
       "      <th></th>\n",
       "      <th>prediction</th>\n",
       "      <th>y</th>\n",
       "      <th>label</th>\n",
       "    </tr>\n",
       "  </thead>\n",
       "  <tbody>\n",
       "    <tr>\n",
       "      <th>0</th>\n",
       "      <td>1.0</td>\n",
       "      <td>0.0</td>\n",
       "      <td>0.0</td>\n",
       "    </tr>\n",
       "    <tr>\n",
       "      <th>1</th>\n",
       "      <td>0.0</td>\n",
       "      <td>0.0</td>\n",
       "      <td>0.0</td>\n",
       "    </tr>\n",
       "    <tr>\n",
       "      <th>2</th>\n",
       "      <td>0.0</td>\n",
       "      <td>0.0</td>\n",
       "      <td>0.0</td>\n",
       "    </tr>\n",
       "    <tr>\n",
       "      <th>3</th>\n",
       "      <td>0.0</td>\n",
       "      <td>0.0</td>\n",
       "      <td>0.0</td>\n",
       "    </tr>\n",
       "    <tr>\n",
       "      <th>4</th>\n",
       "      <td>0.0</td>\n",
       "      <td>0.0</td>\n",
       "      <td>0.0</td>\n",
       "    </tr>\n",
       "    <tr>\n",
       "      <th>...</th>\n",
       "      <td>...</td>\n",
       "      <td>...</td>\n",
       "      <td>...</td>\n",
       "    </tr>\n",
       "    <tr>\n",
       "      <th>51372</th>\n",
       "      <td>1.0</td>\n",
       "      <td>1.0</td>\n",
       "      <td>1.0</td>\n",
       "    </tr>\n",
       "    <tr>\n",
       "      <th>51373</th>\n",
       "      <td>0.0</td>\n",
       "      <td>1.0</td>\n",
       "      <td>1.0</td>\n",
       "    </tr>\n",
       "    <tr>\n",
       "      <th>51374</th>\n",
       "      <td>1.0</td>\n",
       "      <td>1.0</td>\n",
       "      <td>1.0</td>\n",
       "    </tr>\n",
       "    <tr>\n",
       "      <th>51375</th>\n",
       "      <td>0.0</td>\n",
       "      <td>1.0</td>\n",
       "      <td>1.0</td>\n",
       "    </tr>\n",
       "    <tr>\n",
       "      <th>51376</th>\n",
       "      <td>1.0</td>\n",
       "      <td>1.0</td>\n",
       "      <td>1.0</td>\n",
       "    </tr>\n",
       "  </tbody>\n",
       "</table>\n",
       "<p>51377 rows × 3 columns</p>\n",
       "</div>"
      ],
      "text/plain": [
       "       prediction    y  label\n",
       "0             1.0  0.0    0.0\n",
       "1             0.0  0.0    0.0\n",
       "2             0.0  0.0    0.0\n",
       "3             0.0  0.0    0.0\n",
       "4             0.0  0.0    0.0\n",
       "...           ...  ...    ...\n",
       "51372         1.0  1.0    1.0\n",
       "51373         0.0  1.0    1.0\n",
       "51374         1.0  1.0    1.0\n",
       "51375         0.0  1.0    1.0\n",
       "51376         1.0  1.0    1.0\n",
       "\n",
       "[51377 rows x 3 columns]"
      ]
     },
     "execution_count": 49,
     "metadata": {},
     "output_type": "execute_result"
    }
   ],
   "source": [
    "preds_df"
   ]
  },
  {
   "cell_type": "code",
   "execution_count": 50,
   "id": "2d6d23a0-09f5-4341-85bd-a4c190b83f0a",
   "metadata": {},
   "outputs": [],
   "source": [
    "def evaluate_model(y_true, y_pred):\n",
    "    \n",
    "   \n",
    "    y_true = np.array(y_true)\n",
    "    y_pred = np.array(y_pred)\n",
    "    \n",
    "    print(\"Test Accuracy: {:.2f}%\".format(accuracy_score(y_true, y_pred) * 100))\n",
    "    \n",
    "    cm = confusion_matrix(y_true, y_pred)\n",
    "    clr = classification_report(y_true, y_pred, target_names=[\"Not Delayed\", \"Delayed\"])\n",
    "    \n",
    "    plt.figure(figsize=(8, 8))\n",
    "    sns.heatmap(cm, annot=True, vmin=0, fmt='g', cmap='Blues', cbar=False)\n",
    "    plt.xticks(np.arange(2) + 0.5, [\"Not Delayed\", \"Delayed\"])\n",
    "    plt.yticks(np.arange(2) + 0.5, [\"Not Delayed\", \"Delayed\"])\n",
    "    plt.xlabel(\"Predicted\")\n",
    "    plt.ylabel(\"Actual\")\n",
    "    plt.title(\"Confusion Matrix\")\n",
    "    plt.show()\n",
    "    \n",
    "    print(\"Classification Report:\\n----------------------\\n\", clr)"
   ]
  },
  {
   "cell_type": "code",
   "execution_count": 51,
   "id": "c9c993b8-0c1b-4df8-a46e-d6af2bb47d06",
   "metadata": {},
   "outputs": [
    {
     "name": "stdout",
     "output_type": "stream",
     "text": [
      "Test Accuracy: 62.14%\n"
     ]
    },
    {
     "data": {
      "image/png": "[encoded data removed]",
      "text/plain": [
       "<Figure size 800x800 with 1 Axes>"
      ]
     },
     "metadata": {},
     "output_type": "display_data"
    },
    {
     "name": "stdout",
     "output_type": "stream",
     "text": [
      "Classification Report:\n",
      "----------------------\n",
      "               precision    recall  f1-score   support\n",
      "\n",
      " Not Delayed       0.64      0.54      0.59     25677\n",
      "     Delayed       0.60      0.70      0.65     25700\n",
      "\n",
      "    accuracy                           0.62     51377\n",
      "   macro avg       0.62      0.62      0.62     51377\n",
      "weighted avg       0.62      0.62      0.62     51377\n",
      "\n"
     ]
    }
   ],
   "source": [
    "evaluate_model(preds_df.y, preds_df.prediction)"
   ]
  }
 ],
 "metadata": {
  "kernelspec": {
   "display_name": "Python 3 (ipykernel)",
   "language": "python",
   "name": "python3"
  },
  "language_info": {
   "codemirror_mode": {
    "name": "ipython",
    "version": 3
   },
   "file_extension": ".py",
   "mimetype": "text/x-python",
   "name": "python",
   "nbconvert_exporter": "python",
   "pygments_lexer": "ipython3",
   "version": "3.7.9"
  }
 },
 "nbformat": 4,
 "nbformat_minor": 5
}
