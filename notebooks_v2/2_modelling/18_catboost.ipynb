{
 "cells": [
  {
   "cell_type": "code",
   "execution_count": 14,
   "id": "0682c3a5-724d-4b29-a0f9-2113ded45b44",
   "metadata": {},
   "outputs": [],
   "source": [
    "import numpy as np\n",
    "import pandas as pd\n",
    "import sqlite3\n",
    "from sqlite3 import Error\n",
    "import matplotlib.pyplot as plt\n",
    "import seaborn as sns\n",
    "\n",
    "import imblearn\n",
    "\n",
    "from imblearn.over_sampling import SMOTE\n",
    "\n",
    "\n",
    "from sklearn.model_selection import train_test_split\n",
    "\n",
    "from catboost import CatBoostClassifier, Pool\n",
    "from catboost.utils import get_confusion_matrix\n",
    "\n",
    "from sklearn.metrics import confusion_matrix, classification_report"
   ]
  },
  {
   "cell_type": "code",
   "execution_count": 2,
   "id": "9b7768a4-8481-41ef-b2a6-5a489d692ac5",
   "metadata": {},
   "outputs": [],
   "source": [
    "### download the db from link in readme\n",
    "db_path = \"../../dbs/delays_new.db\""
   ]
  },
  {
   "cell_type": "code",
   "execution_count": 3,
   "id": "cef3aea2-843b-426e-8c44-c3a01036f297",
   "metadata": {},
   "outputs": [],
   "source": [
    "def create_connection(path):\n",
    "    connection = None\n",
    "    try:\n",
    "        connection = sqlite3.connect(path)\n",
    "        connection.text_factory = str\n",
    "    except Error as e:\n",
    "        print(\"Error occurred: \" + str(e))\n",
    "    return connection\n",
    "\n",
    "\n",
    "def execute_query(connection, query):\n",
    "    cursor = connection.cursor()\n",
    "    try:\n",
    "        if query == \"\":\n",
    "            return \"Query Blank\"\n",
    "        else:\n",
    "            df = pd.read_sql_query(query, connection)\n",
    "            return df\n",
    "    except Error as e:\n",
    "        return \"Error occurred: \" + str(e)"
   ]
  },

  {
   "cell_type": "code",
   "execution_count": 5,
   "id": "e5d1de50-2a03-44fc-bd67-242574028195",
   "metadata": {},
   "outputs": [],
   "source": [
    "def evaluate_model(model, X_test, y_test):\n",
    "    \n",
    "    model_acc = model.score(X_test, y_test)\n",
    "    print(\"Test Accuracy: {:.2f}%\".format(model_acc * 100))\n",
    "    \n",
    "    y_true = np.array(y_test)\n",
    "    y_pred = model.predict(X_test)\n",
    "    \n",
    "    cm = confusion_matrix(y_true, y_pred)\n",
    "    clr = classification_report(y_true, y_pred, target_names=[\"Not Delayed\", \"Delayed\"])\n",
    "    tn, fp, fn, tp = confusion_matrix(y_true, y_pred).ravel()\n",
    "    sp = tn / (tn+fp)\n",
    "    sen = tp / (tp+fn)\n",
    "    pr = tp / (tp+fp)\n",
    "    \n",
    "    plt.figure(figsize=(8, 8))\n",
    "    sns.heatmap(cm, annot=True, vmin=0, fmt='g', cmap='Blues', cbar=False)\n",
    "    plt.xticks(np.arange(2) + 0.5, [\"Not Delayed\", \"Delayed\"])\n",
    "    plt.yticks(np.arange(2) + 0.5, [\"Not Delayed\", \"Delayed\"])\n",
    "    plt.xlabel(\"Predicted\")\n",
    "    plt.ylabel(\"Actual\")\n",
    "    plt.title(\"Confusion Matrix\")\n",
    "    plt.show()\n",
    "    \n",
    "    print(\"Classification Report:\\n----------------------\\n\", clr)\n",
    "    print(\"\\n Specificity:\", round(sp,2))\n",
    "    print(\"\\n Sensitivity:\", round(sen,2))"
   ]
  },
  {
   "cell_type": "code",
   "execution_count": 6,
   "id": "2f0a2215-33f1-425f-8b06-6013371710af",
   "metadata": {},
   "outputs": [],
   "source": [
    "sample_query = \\\n",
    "    \"\"\"\n",
    "        select \n",
    "         *\n",
    "        from \n",
    "          delay\n",
    "        where year = 2018\n",
    "        order by RANDOM() LIMIT 100000\n",
    "    \"\"\"\n",
    "\n",
    "connection = create_connection(db_path)\n",
    "data =  execute_query(connection, sample_query)"
   ]
  },
  {
   "cell_type": "code",
   "execution_count": 7,
   "id": "01b008f8-7703-4626-9452-4f3d862f4a56",
   "metadata": {},
   "outputs": [
    {
     "data": {
      "text/html": [
       "<div>\n",
       "<style scoped>\n",
       "    .dataframe tbody tr th:only-of-type {\n",
       "        vertical-align: middle;\n",
       "    }\n",
       "\n",
       "    .dataframe tbody tr th {\n",
       "        vertical-align: top;\n",
       "    }\n",
       "\n",
       "    .dataframe thead th {\n",
       "        text-align: right;\n",
       "    }\n",
       "</style>\n",
       "<table border=\"1\" class=\"dataframe\">\n",
       "  <thead>\n",
       "    <tr style=\"text-align: right;\">\n",
       "      <th></th>\n",
       "      <th>Year</th>\n",
       "      <th>Quarter</th>\n",
       "      <th>Month</th>\n",
       "      <th>DayofMonth</th>\n",
       "      <th>DayOfWeek</th>\n",
       "      <th>FlightDate</th>\n",
       "      <th>DOT_ID_Reporting_Airline</th>\n",
       "      <th>IATA_CODE_Reporting_Airline</th>\n",
       "      <th>Tail_Number</th>\n",
       "      <th>Flight_Number_Reporting_Airline</th>\n",
       "      <th>...</th>\n",
       "      <th>CRSElapsedTime</th>\n",
       "      <th>ActualElapsedTime</th>\n",
       "      <th>AirTime</th>\n",
       "      <th>Flights</th>\n",
       "      <th>Distance</th>\n",
       "      <th>CarrierDelay</th>\n",
       "      <th>WeatherDelay</th>\n",
       "      <th>NASDelay</th>\n",
       "      <th>SecurityDelay</th>\n",
       "      <th>LateAircraftDelay</th>\n",
       "    </tr>\n",
       "  </thead>\n",
       "  <tbody>\n",
       "    <tr>\n",
       "      <th>0</th>\n",
       "      <td>2018</td>\n",
       "      <td>2</td>\n",
       "      <td>6</td>\n",
       "      <td>12</td>\n",
       "      <td>2</td>\n",
       "      <td>2018-06-12</td>\n",
       "      <td>20363</td>\n",
       "      <td>9E</td>\n",
       "      <td>N8877A</td>\n",
       "      <td>5396</td>\n",
       "      <td>...</td>\n",
       "      <td>87</td>\n",
       "      <td>94</td>\n",
       "      <td>60</td>\n",
       "      <td>1</td>\n",
       "      <td>363</td>\n",
       "      <td>0</td>\n",
       "      <td>0</td>\n",
       "      <td>0</td>\n",
       "      <td>0</td>\n",
       "      <td>0</td>\n",
       "    </tr>\n",
       "    <tr>\n",
       "      <th>1</th>\n",
       "      <td>2018</td>\n",
       "      <td>4</td>\n",
       "      <td>11</td>\n",
       "      <td>17</td>\n",
       "      <td>6</td>\n",
       "      <td>2018-11-17</td>\n",
       "      <td>20368</td>\n",
       "      <td>G4</td>\n",
       "      <td>233NV</td>\n",
       "      <td>533</td>\n",
       "      <td>...</td>\n",
       "      <td>92</td>\n",
       "      <td>85</td>\n",
       "      <td>73</td>\n",
       "      <td>1</td>\n",
       "      <td>477</td>\n",
       "      <td>0</td>\n",
       "      <td>0</td>\n",
       "      <td>0</td>\n",
       "      <td>0</td>\n",
       "      <td>0</td>\n",
       "    </tr>\n",
       "    <tr>\n",
       "      <th>2</th>\n",
       "      <td>2018</td>\n",
       "      <td>3</td>\n",
       "      <td>9</td>\n",
       "      <td>13</td>\n",
       "      <td>4</td>\n",
       "      <td>2018-09-13</td>\n",
       "      <td>19977</td>\n",
       "      <td>UA</td>\n",
       "      <td>N68842</td>\n",
       "      <td>680</td>\n",
       "      <td>...</td>\n",
       "      <td>250</td>\n",
       "      <td>231</td>\n",
       "      <td>202</td>\n",
       "      <td>1</td>\n",
       "      <td>1846</td>\n",
       "      <td>0</td>\n",
       "      <td>0</td>\n",
       "      <td>0</td>\n",
       "      <td>0</td>\n",
       "      <td>0</td>\n",
       "    </tr>\n",
       "    <tr>\n",
       "      <th>3</th>\n",
       "      <td>2018</td>\n",
       "      <td>1</td>\n",
       "      <td>3</td>\n",
       "      <td>27</td>\n",
       "      <td>2</td>\n",
       "      <td>2018-03-27</td>\n",
       "      <td>19790</td>\n",
       "      <td>DL</td>\n",
       "      <td>N3763D</td>\n",
       "      <td>847</td>\n",
       "      <td>...</td>\n",
       "      <td>109</td>\n",
       "      <td>108</td>\n",
       "      <td>84</td>\n",
       "      <td>1</td>\n",
       "      <td>630</td>\n",
       "      <td>0</td>\n",
       "      <td>0</td>\n",
       "      <td>0</td>\n",
       "      <td>0</td>\n",
       "      <td>0</td>\n",
       "    </tr>\n",
       "    <tr>\n",
       "      <th>4</th>\n",
       "      <td>2018</td>\n",
       "      <td>4</td>\n",
       "      <td>11</td>\n",
       "      <td>17</td>\n",
       "      <td>6</td>\n",
       "      <td>2018-11-17</td>\n",
       "      <td>19805</td>\n",
       "      <td>AA</td>\n",
       "      <td>N917NN</td>\n",
       "      <td>2357</td>\n",
       "      <td>...</td>\n",
       "      <td>168</td>\n",
       "      <td>163</td>\n",
       "      <td>142</td>\n",
       "      <td>1</td>\n",
       "      <td>989</td>\n",
       "      <td>0</td>\n",
       "      <td>0</td>\n",
       "      <td>0</td>\n",
       "      <td>0</td>\n",
       "      <td>0</td>\n",
       "    </tr>\n",
       "    <tr>\n",
       "      <th>...</th>\n",
       "      <td>...</td>\n",
       "      <td>...</td>\n",
       "      <td>...</td>\n",
       "      <td>...</td>\n",
       "      <td>...</td>\n",
       "      <td>...</td>\n",
       "      <td>...</td>\n",
       "      <td>...</td>\n",
       "      <td>...</td>\n",
       "      <td>...</td>\n",
       "      <td>...</td>\n",
       "      <td>...</td>\n",
       "      <td>...</td>\n",
       "      <td>...</td>\n",
       "      <td>...</td>\n",
       "      <td>...</td>\n",
       "      <td>...</td>\n",
       "      <td>...</td>\n",
       "      <td>...</td>\n",
       "      <td>...</td>\n",
       "      <td>...</td>\n",
       "    </tr>\n",
       "    <tr>\n",
       "      <th>99995</th>\n",
       "      <td>2018</td>\n",
       "      <td>3</td>\n",
       "      <td>8</td>\n",
       "      <td>8</td>\n",
       "      <td>3</td>\n",
       "      <td>2018-08-08</td>\n",
       "      <td>19790</td>\n",
       "      <td>DL</td>\n",
       "      <td>N994DL</td>\n",
       "      <td>1270</td>\n",
       "      <td>...</td>\n",
       "      <td>84</td>\n",
       "      <td>66</td>\n",
       "      <td>46</td>\n",
       "      <td>1</td>\n",
       "      <td>271</td>\n",
       "      <td>0</td>\n",
       "      <td>0</td>\n",
       "      <td>0</td>\n",
       "      <td>0</td>\n",
       "      <td>0</td>\n",
       "    </tr>\n",
       "    <tr>\n",
       "      <th>99996</th>\n",
       "      <td>2018</td>\n",
       "      <td>1</td>\n",
       "      <td>1</td>\n",
       "      <td>7</td>\n",
       "      <td>7</td>\n",
       "      <td>2018-01-07</td>\n",
       "      <td>20452</td>\n",
       "      <td>YX</td>\n",
       "      <td>N810MD</td>\n",
       "      <td>5891</td>\n",
       "      <td>...</td>\n",
       "      <td>128</td>\n",
       "      <td>130</td>\n",
       "      <td>87</td>\n",
       "      <td>1</td>\n",
       "      <td>641</td>\n",
       "      <td>14</td>\n",
       "      <td>0</td>\n",
       "      <td>2</td>\n",
       "      <td>0</td>\n",
       "      <td>0</td>\n",
       "    </tr>\n",
       "    <tr>\n",
       "      <th>99997</th>\n",
       "      <td>2018</td>\n",
       "      <td>4</td>\n",
       "      <td>10</td>\n",
       "      <td>9</td>\n",
       "      <td>2</td>\n",
       "      <td>2018-10-09</td>\n",
       "      <td>20366</td>\n",
       "      <td>EV</td>\n",
       "      <td>N12564</td>\n",
       "      <td>4365</td>\n",
       "      <td>...</td>\n",
       "      <td>98</td>\n",
       "      <td>103</td>\n",
       "      <td>71</td>\n",
       "      <td>1</td>\n",
       "      <td>419</td>\n",
       "      <td>0</td>\n",
       "      <td>0</td>\n",
       "      <td>0</td>\n",
       "      <td>0</td>\n",
       "      <td>0</td>\n",
       "    </tr>\n",
       "    <tr>\n",
       "      <th>99998</th>\n",
       "      <td>2018</td>\n",
       "      <td>3</td>\n",
       "      <td>9</td>\n",
       "      <td>14</td>\n",
       "      <td>5</td>\n",
       "      <td>2018-09-14</td>\n",
       "      <td>20304</td>\n",
       "      <td>OO</td>\n",
       "      <td>N114SY</td>\n",
       "      <td>5802</td>\n",
       "      <td>...</td>\n",
       "      <td>131</td>\n",
       "      <td>140</td>\n",
       "      <td>106</td>\n",
       "      <td>1</td>\n",
       "      <td>751</td>\n",
       "      <td>0</td>\n",
       "      <td>0</td>\n",
       "      <td>0</td>\n",
       "      <td>0</td>\n",
       "      <td>0</td>\n",
       "    </tr>\n",
       "    <tr>\n",
       "      <th>99999</th>\n",
       "      <td>2018</td>\n",
       "      <td>1</td>\n",
       "      <td>2</td>\n",
       "      <td>17</td>\n",
       "      <td>6</td>\n",
       "      <td>2018-02-17</td>\n",
       "      <td>20304</td>\n",
       "      <td>OO</td>\n",
       "      <td>N426SW</td>\n",
       "      <td>7422</td>\n",
       "      <td>...</td>\n",
       "      <td>63</td>\n",
       "      <td>45</td>\n",
       "      <td>27</td>\n",
       "      <td>1</td>\n",
       "      <td>119</td>\n",
       "      <td>0</td>\n",
       "      <td>0</td>\n",
       "      <td>0</td>\n",
       "      <td>0</td>\n",
       "      <td>0</td>\n",
       "    </tr>\n",
       "  </tbody>\n",
       "</table>\n",
       "<p>100000 rows × 33 columns</p>\n",
       "</div>"
      ],
      "text/plain": [
       "       Year  Quarter  Month  DayofMonth  DayOfWeek  FlightDate  \\\n",
       "0      2018        2      6          12          2  2018-06-12   \n",
       "1      2018        4     11          17          6  2018-11-17   \n",
       "2      2018        3      9          13          4  2018-09-13   \n",
       "3      2018        1      3          27          2  2018-03-27   \n",
       "4      2018        4     11          17          6  2018-11-17   \n",
       "...     ...      ...    ...         ...        ...         ...   \n",
       "99995  2018        3      8           8          3  2018-08-08   \n",
       "99996  2018        1      1           7          7  2018-01-07   \n",
       "99997  2018        4     10           9          2  2018-10-09   \n",
       "99998  2018        3      9          14          5  2018-09-14   \n",
       "99999  2018        1      2          17          6  2018-02-17   \n",
       "\n",
       "       DOT_ID_Reporting_Airline IATA_CODE_Reporting_Airline Tail_Number  \\\n",
       "0                         20363                          9E      N8877A   \n",
       "1                         20368                          G4       233NV   \n",
       "2                         19977                          UA      N68842   \n",
       "3                         19790                          DL      N3763D   \n",
       "4                         19805                          AA      N917NN   \n",
       "...                         ...                         ...         ...   \n",
       "99995                     19790                          DL      N994DL   \n",
       "99996                     20452                          YX      N810MD   \n",
       "99997                     20366                          EV      N12564   \n",
       "99998                     20304                          OO      N114SY   \n",
       "99999                     20304                          OO      N426SW   \n",
       "\n",
       "      Flight_Number_Reporting_Airline  ...  CRSElapsedTime  ActualElapsedTime  \\\n",
       "0                                5396  ...              87                 94   \n",
       "1                                 533  ...              92                 85   \n",
       "2                                 680  ...             250                231   \n",
       "3                                 847  ...             109                108   \n",
       "4                                2357  ...             168                163   \n",
       "...                               ...  ...             ...                ...   \n",
       "99995                            1270  ...              84                 66   \n",
       "99996                            5891  ...             128                130   \n",
       "99997                            4365  ...              98                103   \n",
       "99998                            5802  ...             131                140   \n",
       "99999                            7422  ...              63                 45   \n",
       "\n",
       "       AirTime  Flights  Distance  CarrierDelay  WeatherDelay  NASDelay  \\\n",
       "0           60        1       363             0             0         0   \n",
       "1           73        1       477             0             0         0   \n",
       "2          202        1      1846             0             0         0   \n",
       "3           84        1       630             0             0         0   \n",
       "4          142        1       989             0             0         0   \n",
       "...        ...      ...       ...           ...           ...       ...   \n",
       "99995       46        1       271             0             0         0   \n",
       "99996       87        1       641            14             0         2   \n",
       "99997       71        1       419             0             0         0   \n",
       "99998      106        1       751             0             0         0   \n",
       "99999       27        1       119             0             0         0   \n",
       "\n",
       "       SecurityDelay  LateAircraftDelay  \n",
       "0                  0                  0  \n",
       "1                  0                  0  \n",
       "2                  0                  0  \n",
       "3                  0                  0  \n",
       "4                  0                  0  \n",
       "...              ...                ...  \n",
       "99995              0                  0  \n",
       "99996              0                  0  \n",
       "99997              0                  0  \n",
       "99998              0                  0  \n",
       "99999              0                  0  \n",
       "\n",
       "[100000 rows x 33 columns]"
      ]
     },
     "execution_count": 7,
     "metadata": {},
     "output_type": "execute_result"
    }
   ],
   "source": [
    "data"
   ]
  },
  {
   "cell_type": "markdown",
   "id": "b76a5fb9-b91b-408a-b8cd-ada5fb5ccb8c",
   "metadata": {},
   "source": [
    "## CatBoost Algorithm\n",
    "### Standard Features\n",
    "#### Without SMOTE"
   ]
  },
  {
   "cell_type": "code",
   "execution_count": 25,
   "id": "172affe3-c5b6-4075-8b28-1341e03429dd",
   "metadata": {},
   "outputs": [],
   "source": [
    "def preprocess_inputs_cat(df):\n",
    "    df = df.copy()\n",
    "    \n",
    "    y = (df.ArrDelay>15).astype(int)\n",
    "    \n",
    "    df['IATA_CODE_Reporting_Airline'] = df['IATA_CODE_Reporting_Airline'].astype('category')\n",
    "    df['IATA_CODE_Reporting_Airline'] = df['IATA_CODE_Reporting_Airline'].cat.codes\n",
    "    \n",
    "    df['OriginAirportID'] = df['OriginAirportID'].astype('category')\n",
    "    df['OriginAirportID'] = df['OriginAirportID'].cat.codes\n",
    "    \n",
    "    df['DestAirportID'] = df['DestAirportID'].astype('category')\n",
    "    df['DestAirportID'] = df['DestAirportID'].cat.codes\n",
    "    \n",
    "    df['Month'] = df['Month'].astype('category')\n",
    "    df['Month'] = df['Month'].cat.codes\n",
    "    \n",
    "    X = df[['Month',\n",
    "     'DayofMonth',\n",
    "     'DayOfWeek',\n",
    "     'IATA_CODE_Reporting_Airline',\n",
    "     'OriginAirportID',\n",
    "     'DestAirportID',\n",
    "     'AirTime']]\n",
    "    \n",
    "    \n",
    "    # Train-test split\n",
    "    X_train, X_test, y_train, y_test = train_test_split(X, y, train_size=0.8, random_state=42)\n",
    "   \n",
    "    return X_train, X_test, y_train, y_test"
   ]
  },
  {
   "cell_type": "code",
   "execution_count": 26,
   "id": "832cb548-ea69-4bea-947b-4ca26c7ed7bb",
   "metadata": {},
   "outputs": [],
   "source": [
    "X_train, X_test, y_train, y_test = preprocess_inputs_cat(data)"
   ]
  },
  {
   "cell_type": "code",
   "execution_count": 27,
   "id": "5f35556b-e7b6-4e8f-a1af-a89e03e701eb",
   "metadata": {},
   "outputs": [
    {
     "name": "stdout",
     "output_type": "stream",
     "text": [
      "[0, 1, 2, 3, 4, 5]\n"
     ]
    }
   ],
   "source": [
    "cat_features = list(range(0, X_train.shape[1]-1))\n",
    "print(cat_features)"
   ]
  },
  {
   "cell_type": "code",
   "execution_count": 28,
   "id": "d2591b2c-9de8-49ad-8613-fac3aaaa79bd",
   "metadata": {},
   "outputs": [
    {
     "name": "stdout",
     "output_type": "stream",
     "text": [
      "CatBoost model is fitted: True\n",
      "CatBoost model parameters:\n",
      "{'iterations': 20, 'learning_rate': 0.1}\n"
     ]
    }
   ],
   "source": [
    "clf = CatBoostClassifier(\n",
    "    iterations=20, \n",
    "    learning_rate=0.1, \n",
    "    #loss_function='MultiClass'\n",
    ")\n",
    "\n",
    "clf.fit(X_train, y_train, \n",
    "        cat_features=cat_features, \n",
    "        eval_set=(X_test, y_test), \n",
    "        verbose=False\n",
    ")\n",
    "\n",
    "print('CatBoost model is fitted: ' + str(clf.is_fitted()))\n",
    "print('CatBoost model parameters:')\n",
    "print(clf.get_params())"
   ]
  },
  {
   "cell_type": "code",
   "execution_count": 29,
   "id": "ef125c02-a479-4536-b801-0cad9adb1d5b",
   "metadata": {},
   "outputs": [
    {
     "data": {
      "text/plain": [
       "array([[65319.,     0.],\n",
       "       [14681.,     0.]])"
      ]
     },
     "execution_count": 29,
     "metadata": {},
     "output_type": "execute_result"
    }
   ],
   "source": [
    "pool_train = Pool(X_train, y_train, \n",
    "        cat_features=cat_features)\n",
    "get_confusion_matrix(clf, pool_train)"
   ]
  },
  {
   "cell_type": "code",
   "execution_count": 30,
   "id": "d5c527d9-3bee-4740-872f-98d951fb81a6",
   "metadata": {},
   "outputs": [
    {
     "name": "stdout",
     "output_type": "stream",
     "text": [
      "Test Accuracy: 81.95%\n"
     ]
    },
    {
     "name": "stderr",
     "output_type": "stream",
     "text": [
      "D:\\Downloads\\anaconda3\\lib\\site-packages\\sklearn\\metrics\\_classification.py:1334: UndefinedMetricWarning: Precision and F-score are ill-defined and being set to 0.0 in labels with no predicted samples. Use `zero_division` parameter to control this behavior.\n",
      "  _warn_prf(average, modifier, msg_start, len(result))\n",
      "D:\\Downloads\\anaconda3\\lib\\site-packages\\sklearn\\metrics\\_classification.py:1334: UndefinedMetricWarning: Precision and F-score are ill-defined and being set to 0.0 in labels with no predicted samples. Use `zero_division` parameter to control this behavior.\n",
      "  _warn_prf(average, modifier, msg_start, len(result))\n",
      "D:\\Downloads\\anaconda3\\lib\\site-packages\\sklearn\\metrics\\_classification.py:1334: UndefinedMetricWarning: Precision and F-score are ill-defined and being set to 0.0 in labels with no predicted samples. Use `zero_division` parameter to control this behavior.\n",
      "  _warn_prf(average, modifier, msg_start, len(result))\n",
      "<ipython-input-5-b1db52aa8b6c>:14: RuntimeWarning: invalid value encountered in longlong_scalars\n",
      "  pr = tp / (tp+fp)\n"
     ]
    },
    {
     "data": {
      "image/png": "[encoded data removed]",
      "text/plain": [
       "<Figure size 576x576 with 1 Axes>"
      ]
     },
     "metadata": {
      "needs_background": "light"
     },
     "output_type": "display_data"
    },
    {
     "name": "stdout",
     "output_type": "stream",
     "text": [
      "Classification Report:\n",
      "----------------------\n",
      "               precision    recall  f1-score   support\n",
      "\n",
      " Not Delayed       0.82      1.00      0.90     16390\n",
      "     Delayed       0.00      0.00      0.00      3610\n",
      "\n",
      "    accuracy                           0.82     20000\n",
      "   macro avg       0.41      0.50      0.45     20000\n",
      "weighted avg       0.67      0.82      0.74     20000\n",
      "\n",
      "\n",
      " Specificity: 1.0\n",
      "\n",
      " Sensitivity: 0.0\n"
     ]
    }
   ],
   "source": [
    "evaluate_model(clf, X_test, y_test)"
   ]
  },
  {
   "cell_type": "markdown",
   "id": "21190163-0a5c-4c56-b702-b23311f7e866",
   "metadata": {},
   "source": [
    "#### With SMOTE"
   ]
  },
  {
   "cell_type": "code",
   "execution_count": 31,
   "id": "f95be45c-d824-43f7-9ec5-cfa497dd8fcc",
   "metadata": {},
   "outputs": [],
   "source": [
    "smote = SMOTE()\n",
    "X_train, y_train = smote.fit_resample(X_train, y_train)"
   ]
  },
  {
   "cell_type": "code",
   "execution_count": 32,
   "id": "ab02a371-08f7-4ca3-bec8-0faa09d47241",
   "metadata": {},
   "outputs": [
    {
     "name": "stdout",
     "output_type": "stream",
     "text": [
      "[0, 1, 2, 3, 4, 5]\n"
     ]
    }
   ],
   "source": [
    "cat_features = list(range(0, X_train.shape[1]-1))\n",
    "print(cat_features)"
   ]
  },
  {
   "cell_type": "code",
   "execution_count": 33,
   "id": "6a769a8c-89c3-4372-858d-c0ac2dfcf7a8",
   "metadata": {},
   "outputs": [
    {
     "name": "stdout",
     "output_type": "stream",
     "text": [
      "CatBoost model is fitted: True\n",
      "CatBoost model parameters:\n",
      "{'iterations': 20, 'learning_rate': 0.1}\n"
     ]
    }
   ],
   "source": [
    "clf = CatBoostClassifier(\n",
    "    iterations=20, \n",
    "    learning_rate=0.1, \n",
    "    #loss_function='MultiClass'\n",
    ")\n",
    "\n",
    "\n",
    "clf.fit(X_train, y_train, \n",
    "        cat_features=cat_features, \n",
    "        eval_set=(X_test, y_test), \n",
    "        verbose=False\n",
    ")\n",
    "\n",
    "print('CatBoost model is fitted: ' + str(clf.is_fitted()))\n",
    "print('CatBoost model parameters:')\n",
    "print(clf.get_params())"
   ]
  },
  {
   "cell_type": "code",
   "execution_count": 34,
   "id": "d995a3a2-c40b-4fea-9a6c-19f50c14442a",
   "metadata": {},
   "outputs": [
    {
     "data": {
      "text/plain": [
       "array([[49115., 16204.],\n",
       "       [25033., 40286.]])"
      ]
     },
     "execution_count": 34,
     "metadata": {},
     "output_type": "execute_result"
    }
   ],
   "source": [
    "pool_train = Pool(X_train, y_train, \n",
    "        cat_features=cat_features)\n",
    "get_confusion_matrix(clf, pool_train)"
   ]
  },
  {
   "cell_type": "code",
   "execution_count": 35,
   "id": "568cf536-829b-4ac6-9669-5d6e7b9dfa2a",
   "metadata": {},
   "outputs": [
    {
     "name": "stdout",
     "output_type": "stream",
     "text": [
      "Test Accuracy: 67.44%\n"
     ]
    },
    {
     "data": {
      "image/png": "[encoded data removed]",
      "text/plain": [
       "<Figure size 576x576 with 1 Axes>"
      ]
     },
     "metadata": {
      "needs_background": "light"
     },
     "output_type": "display_data"
    },
    {
     "name": "stdout",
     "output_type": "stream",
     "text": [
      "Classification Report:\n",
      "----------------------\n",
      "               precision    recall  f1-score   support\n",
      "\n",
      " Not Delayed       0.84      0.75      0.79     16390\n",
      "     Delayed       0.22      0.33      0.27      3610\n",
      "\n",
      "    accuracy                           0.67     20000\n",
      "   macro avg       0.53      0.54      0.53     20000\n",
      "weighted avg       0.73      0.67      0.70     20000\n",
      "\n",
      "\n",
      " Specificity: 0.75\n",
      "\n",
      " Sensitivity: 0.33\n"
     ]
    }
   ],
   "source": [
    "evaluate_model(clf, X_test, y_test)"
   ]
  },
  {
   "cell_type": "markdown",
   "id": "24cbdd4b-e764-431e-a593-d340959ca650",
   "metadata": {},
   "source": [
    "### With Selected Features\n",
    "#### Without SMOTE"
   ]
  },
  {
   "cell_type": "code",
   "execution_count": 36,
   "id": "35411ea9-0096-49ae-a340-addeef856893",
   "metadata": {},
   "outputs": [],
   "source": [
    "\n",
    "def preprocess_inputs_cat_2(df):\n",
    "    df = df.copy()\n",
    "    \n",
    "    y = (df.ArrDelayMinutes>15).astype(int)\n",
    "    \n",
    "    df['IATA_CODE_Reporting_Airline'] = df['IATA_CODE_Reporting_Airline'].astype('category')\n",
    "    df['IATA_CODE_Reporting_Airline'] = df['IATA_CODE_Reporting_Airline'].cat.codes\n",
    "    \n",
    "    df['OriginAirportID'] = df['OriginAirportID'].astype('category')\n",
    "    df['OriginAirportID'] = df['OriginAirportID'].cat.codes\n",
    "    \n",
    "    df['DestAirportID'] = df['DestAirportID'].astype('category')\n",
    "    df['DestAirportID'] = df['DestAirportID'].cat.codes\n",
    "    \n",
    "    df['Month'] = df['Month'].astype('category')\n",
    "    df['Month'] = df['Month'].cat.codes\n",
    "    \n",
    "    df['Tail_Number'] = df['Tail_Number'].astype('category')\n",
    "    df['Tail_Number'] = df['Tail_Number'].cat.codes\n",
    "    \n",
    "    df['Flight_Number_Reporting_Airline'] = df['Flight_Number_Reporting_Airline'].astype('category')\n",
    "    df['Flight_Number_Reporting_Airline'] = df['Flight_Number_Reporting_Airline'].cat.codes\n",
    "    \n",
    "    \n",
    "    X = df[['Month',\n",
    "     'IATA_CODE_Reporting_Airline',\n",
    "     'OriginAirportID',\n",
    "     'DestAirportID',\n",
    "     'Tail_Number',\n",
    "     'Flight_Number_Reporting_Airline',\n",
    "     'DayofMonth',\n",
    "     'DayOfWeek',\n",
    "     'AirTime']]\n",
    "    \n",
    "\n",
    "    \n",
    "    \n",
    "    # Train-test split\n",
    "    X_train, X_test, y_train, y_test = train_test_split(X, y, train_size=0.8, random_state=42)\n",
    "    \n",
    "    \n",
    "    return X_train, X_test, y_train, y_test"
   ]
  },
  {
   "cell_type": "code",
   "execution_count": 37,
   "id": "3955605a-75b6-4450-833d-14fffd1fe173",
   "metadata": {},
   "outputs": [],
   "source": [
    "X_train, X_test, y_train, y_test = preprocess_inputs_cat_2(data)"
   ]
  },
  {
   "cell_type": "code",
   "execution_count": 38,
   "id": "9732a1ea-0251-40c5-80f7-ea4d4c3c7a13",
   "metadata": {},
   "outputs": [
    {
     "name": "stdout",
     "output_type": "stream",
     "text": [
      "[0, 1, 2, 3, 4, 5, 6, 7]\n"
     ]
    }
   ],
   "source": [
    "cat_features = list(range(0, X_train.shape[1]-1))\n",
    "print(cat_features)"
   ]
  },
  {
   "cell_type": "code",
   "execution_count": 39,
   "id": "30ba2d7b-baf6-4291-899d-802f937bf8b2",
   "metadata": {},
   "outputs": [
    {
     "name": "stdout",
     "output_type": "stream",
     "text": [
      "CatBoost model is fitted: True\n",
      "CatBoost model parameters:\n",
      "{'iterations': 20, 'learning_rate': 0.1}\n"
     ]
    }
   ],
   "source": [
    "clf = CatBoostClassifier(\n",
    "    iterations=20, \n",
    "    learning_rate=0.1, \n",
    "    #loss_function='MultiClass'\n",
    ")\n",
    "\n",
    "clf.fit(X_train, y_train, \n",
    "        cat_features=cat_features, \n",
    "        eval_set=(X_test, y_test), \n",
    "        verbose=False\n",
    ")\n",
    "\n",
    "print('CatBoost model is fitted: ' + str(clf.is_fitted()))\n",
    "print('CatBoost model parameters:')\n",
    "print(clf.get_params())"
   ]
  },
  {
   "cell_type": "code",
   "execution_count": 40,
   "id": "614317c9-8e38-4307-9ce7-5bd47cd3ea64",
   "metadata": {},
   "outputs": [
    {
     "data": {
      "text/plain": [
       "array([[65319.,     0.],\n",
       "       [14681.,     0.]])"
      ]
     },
     "execution_count": 40,
     "metadata": {},
     "output_type": "execute_result"
    }
   ],
   "source": [
    "pool_train = Pool(X_train, y_train, \n",
    "        cat_features=cat_features)\n",
    "get_confusion_matrix(clf, pool_train)"
   ]
  },
  {
   "cell_type": "code",
   "execution_count": 41,
   "id": "b0be2e35-5a07-4843-a47e-3754958f0980",
   "metadata": {},
   "outputs": [
    {
     "name": "stdout",
     "output_type": "stream",
     "text": [
      "Test Accuracy: 81.95%\n"
     ]
    },
    {
     "name": "stderr",
     "output_type": "stream",
     "text": [
      "D:\\Downloads\\anaconda3\\lib\\site-packages\\sklearn\\metrics\\_classification.py:1334: UndefinedMetricWarning: Precision and F-score are ill-defined and being set to 0.0 in labels with no predicted samples. Use `zero_division` parameter to control this behavior.\n",
      "  _warn_prf(average, modifier, msg_start, len(result))\n",
      "D:\\Downloads\\anaconda3\\lib\\site-packages\\sklearn\\metrics\\_classification.py:1334: UndefinedMetricWarning: Precision and F-score are ill-defined and being set to 0.0 in labels with no predicted samples. Use `zero_division` parameter to control this behavior.\n",
      "  _warn_prf(average, modifier, msg_start, len(result))\n",
      "D:\\Downloads\\anaconda3\\lib\\site-packages\\sklearn\\metrics\\_classification.py:1334: UndefinedMetricWarning: Precision and F-score are ill-defined and being set to 0.0 in labels with no predicted samples. Use `zero_division` parameter to control this behavior.\n",
      "  _warn_prf(average, modifier, msg_start, len(result))\n",
      "<ipython-input-5-b1db52aa8b6c>:14: RuntimeWarning: invalid value encountered in longlong_scalars\n",
      "  pr = tp / (tp+fp)\n"
     ]
    },
    {
     "data": {
      "image/png": "[encoded data removed]",
      "text/plain": [
       "<Figure size 576x576 with 1 Axes>"
      ]
     },
     "metadata": {
      "needs_background": "light"
     },
     "output_type": "display_data"
    },
    {
     "name": "stdout",
     "output_type": "stream",
     "text": [
      "Classification Report:\n",
      "----------------------\n",
      "               precision    recall  f1-score   support\n",
      "\n",
      " Not Delayed       0.82      1.00      0.90     16390\n",
      "     Delayed       0.00      0.00      0.00      3610\n",
      "\n",
      "    accuracy                           0.82     20000\n",
      "   macro avg       0.41      0.50      0.45     20000\n",
      "weighted avg       0.67      0.82      0.74     20000\n",
      "\n",
      "\n",
      " Specificity: 1.0\n",
      "\n",
      " Sensitivity: 0.0\n"
     ]
    }
   ],
   "source": [
    "evaluate_model(clf, X_test, y_test)"
   ]
  },
  {
   "cell_type": "markdown",
   "id": "63974fcc-6bd0-46c1-ad85-6415178b422b",
   "metadata": {},
   "source": [
    "#### With SMOTE"
   ]
  },
  {
   "cell_type": "code",
   "execution_count": 42,
   "id": "96774946-62fd-4c20-acc4-13a488f450df",
   "metadata": {},
   "outputs": [],
   "source": [
    "smote = SMOTE()\n",
    "X_train, y_train = smote.fit_resample(X_train, y_train)"
   ]
  },
  {
   "cell_type": "code",
   "execution_count": 43,
   "id": "45ad4bd0-e7ed-49b0-af85-ac612c8a2066",
   "metadata": {},
   "outputs": [
    {
     "name": "stdout",
     "output_type": "stream",
     "text": [
      "[0, 1, 2, 3, 4, 5, 6, 7]\n"
     ]
    }
   ],
   "source": [
    "cat_features = list(range(0, X_train.shape[1]-1))\n",
    "print(cat_features)"
   ]
  },
  {
   "cell_type": "code",
   "execution_count": 44,
   "id": "ac870a67-0bfc-448e-9e8f-ba68e07e8665",
   "metadata": {},
   "outputs": [
    {
     "name": "stdout",
     "output_type": "stream",
     "text": [
      "CatBoost model is fitted: True\n",
      "CatBoost model parameters:\n",
      "{'iterations': 20, 'learning_rate': 0.1}\n"
     ]
    }
   ],
   "source": [
    "clf = CatBoostClassifier(\n",
    "    iterations=20, \n",
    "    learning_rate=0.1, \n",
    "    #loss_function='MultiClass'\n",
    ")\n",
    "\n",
    "clf.fit(X_train, y_train, \n",
    "        cat_features=cat_features, \n",
    "        eval_set=(X_test, y_test), \n",
    "        verbose=False\n",
    ")\n",
    "\n",
    "print('CatBoost model is fitted: ' + str(clf.is_fitted()))\n",
    "print('CatBoost model parameters:')\n",
    "print(clf.get_params())"
   ]
  },
  {
   "cell_type": "code",
   "execution_count": 45,
   "id": "c827705a-f7b0-4606-87cf-89f65fba830d",
   "metadata": {},
   "outputs": [
    {
     "data": {
      "text/plain": [
       "array([[59201.,  6118.],\n",
       "       [22169., 43150.]])"
      ]
     },
     "execution_count": 45,
     "metadata": {},
     "output_type": "execute_result"
    }
   ],
   "source": [
    "# from catboost.utils import get_confusion_matrix\n",
    "pool_train = Pool(X_train, y_train, \n",
    "        cat_features=cat_features)\n",
    "get_confusion_matrix(clf, pool_train)"
   ]
  },
  {
   "cell_type": "code",
   "execution_count": 46,
   "id": "97161333-ef18-439d-ac26-05b539980fe6",
   "metadata": {},
   "outputs": [
    {
     "name": "stdout",
     "output_type": "stream",
     "text": [
      "Test Accuracy: 75.89%\n"
     ]
    },
    {
     "data": {
      "image/png": "[encoded data removed]",
      "text/plain": [
       "<Figure size 576x576 with 1 Axes>"
      ]
     },
     "metadata": {
      "needs_background": "light"
     },
     "output_type": "display_data"
    },
    {
     "name": "stdout",
     "output_type": "stream",
     "text": [
      "Classification Report:\n",
      "----------------------\n",
      "               precision    recall  f1-score   support\n",
      "\n",
      " Not Delayed       0.82      0.91      0.86     16390\n",
      "     Delayed       0.18      0.09      0.12      3610\n",
      "\n",
      "    accuracy                           0.76     20000\n",
      "   macro avg       0.50      0.50      0.49     20000\n",
      "weighted avg       0.70      0.76      0.73     20000\n",
      "\n",
      "\n",
      " Specificity: 0.91\n",
      "\n",
      " Sensitivity: 0.09\n"
     ]
    }
   ],
   "source": [
    "evaluate_model(clf, X_test, y_test)"
   ]
  },
  {
   "cell_type": "markdown",
   "id": "b632d5da-8a7a-499e-8df2-0a56faaab7cf",
   "metadata": {},
   "source": [
    "### Dropping Tail Number"
   ]
  },
  {
   "cell_type": "markdown",
   "id": "50438fdc-37e7-4464-b130-a217eede3a08",
   "metadata": {},
   "source": [
    "#### Without SMOTE"
   ]
  },
  {
   "cell_type": "code",
   "execution_count": 62,
   "id": "e32856c5-87f6-4bcb-a59e-76409c309245",
   "metadata": {},
   "outputs": [],
   "source": [
    "def preprocess_inputs_cat_3(df):\n",
    "    df = df.copy()\n",
    "    \n",
    "    y = (df.ArrDelayMinutes>15).astype(int)\n",
    "    \n",
    "    df['IATA_CODE_Reporting_Airline'] = df['IATA_CODE_Reporting_Airline'].astype('category')\n",
    "    df['IATA_CODE_Reporting_Airline'] = df['IATA_CODE_Reporting_Airline'].cat.codes\n",
    "    \n",
    "    df['OriginAirportID'] = df['OriginAirportID'].astype('category')\n",
    "    df['OriginAirportID'] = df['OriginAirportID'].cat.codes\n",
    "    \n",
    "    df['DestAirportID'] = df['DestAirportID'].astype('category')\n",
    "    df['DestAirportID'] = df['DestAirportID'].cat.codes\n",
    "    \n",
    "    df['Month'] = df['Month'].astype('category')\n",
    "    df['Month'] = df['Month'].cat.codes\n",
    "    \n",
    "    df['Flight_Number_Reporting_Airline'] = df['Flight_Number_Reporting_Airline'].astype('category')\n",
    "    df['Flight_Number_Reporting_Airline'] = df['Flight_Number_Reporting_Airline'].cat.codes\n",
    "    \n",
    "    \n",
    "    X = df[['Month',\n",
    "     'DayofMonth',\n",
    "     'DayOfWeek',\n",
    "     'IATA_CODE_Reporting_Airline',\n",
    "     'OriginAirportID',\n",
    "     'DestAirportID',\n",
    "     'Flight_Number_Reporting_Airline',\n",
    "     'AirTime']]\n",
    "    \n",
    "\n",
    "    \n",
    "    \n",
    "    # Train-test split\n",
    "    X_train, X_test, y_train, y_test = train_test_split(X, y, train_size=0.8, random_state=42)\n",
    "    \n",
    "    \n",
    "    return X_train, X_test, y_train, y_test"
   ]
  },
  {
   "cell_type": "code",
   "execution_count": 63,
   "id": "e826b4d5-d67a-484c-b17a-9d8e361de091",
   "metadata": {},
   "outputs": [],
   "source": [
    "X_train, X_test, y_train, y_test = preprocess_inputs_cat_3(data)"
   ]
  },
  {
   "cell_type": "code",
   "execution_count": 64,
   "id": "a7173441-481b-4016-b38b-7f605574a0ae",
   "metadata": {},
   "outputs": [
    {
     "name": "stdout",
     "output_type": "stream",
     "text": [
      "[0, 1, 2, 3, 4, 5, 6]\n"
     ]
    }
   ],
   "source": [
    "cat_features = list(range(0, X_train.shape[1]-1))\n",
    "print(cat_features)"
   ]
  },
  {
   "cell_type": "code",
   "execution_count": 65,
   "id": "1fd71379-59a9-445f-9def-cd318cf29128",
   "metadata": {},
   "outputs": [
    {
     "name": "stdout",
     "output_type": "stream",
     "text": [
      "CatBoost model is fitted: True\n",
      "CatBoost model parameters:\n",
      "{'iterations': 20, 'learning_rate': 0.1}\n"
     ]
    }
   ],
   "source": [
    "clf = CatBoostClassifier(\n",
    "    iterations=20, \n",
    "    learning_rate=0.1, \n",
    "    #loss_function='MultiClass'\n",
    ")\n",
    "\n",
    "clf.fit(X_train, y_train, \n",
    "        cat_features=cat_features, \n",
    "        eval_set=(X_test, y_test), \n",
    "        verbose=False\n",
    ")\n",
    "\n",
    "print('CatBoost model is fitted: ' + str(clf.is_fitted()))\n",
    "print('CatBoost model parameters:')\n",
    "print(clf.get_params())"
   ]
  },
  {
   "cell_type": "code",
   "execution_count": 66,
   "id": "ed530b9e-184e-49bc-b417-59030b7c5b3c",
   "metadata": {},
   "outputs": [
    {
     "data": {
      "text/plain": [
       "array([[65319.,     0.],\n",
       "       [14681.,     0.]])"
      ]
     },
     "execution_count": 66,
     "metadata": {},
     "output_type": "execute_result"
    }
   ],
   "source": [
    "pool_train = Pool(X_train, y_train, \n",
    "        cat_features=cat_features)\n",
    "get_confusion_matrix(clf, pool_train)"
   ]
  },
  {
   "cell_type": "code",
   "execution_count": 67,
   "id": "75c7af4b-2576-4a92-b90f-f7b4c9f8e3cc",
   "metadata": {},
   "outputs": [
    {
     "name": "stdout",
     "output_type": "stream",
     "text": [
      "Test Accuracy: 81.95%\n"
     ]
    },
    {
     "name": "stderr",
     "output_type": "stream",
     "text": [
      "D:\\Downloads\\anaconda3\\lib\\site-packages\\sklearn\\metrics\\_classification.py:1334: UndefinedMetricWarning: Precision and F-score are ill-defined and being set to 0.0 in labels with no predicted samples. Use `zero_division` parameter to control this behavior.\n",
      "  _warn_prf(average, modifier, msg_start, len(result))\n",
      "D:\\Downloads\\anaconda3\\lib\\site-packages\\sklearn\\metrics\\_classification.py:1334: UndefinedMetricWarning: Precision and F-score are ill-defined and being set to 0.0 in labels with no predicted samples. Use `zero_division` parameter to control this behavior.\n",
      "  _warn_prf(average, modifier, msg_start, len(result))\n",
      "D:\\Downloads\\anaconda3\\lib\\site-packages\\sklearn\\metrics\\_classification.py:1334: UndefinedMetricWarning: Precision and F-score are ill-defined and being set to 0.0 in labels with no predicted samples. Use `zero_division` parameter to control this behavior.\n",
      "  _warn_prf(average, modifier, msg_start, len(result))\n",
      "<ipython-input-5-b1db52aa8b6c>:14: RuntimeWarning: invalid value encountered in longlong_scalars\n",
      "  pr = tp / (tp+fp)\n"
     ]
    },
    {
     "data": {
      "image/png": "[encoded data removed]",
      "text/plain": [
       "<Figure size 576x576 with 1 Axes>"
      ]
     },
     "metadata": {
      "needs_background": "light"
     },
     "output_type": "display_data"
    },
    {
     "name": "stdout",
     "output_type": "stream",
     "text": [
      "Classification Report:\n",
      "----------------------\n",
      "               precision    recall  f1-score   support\n",
      "\n",
      " Not Delayed       0.82      1.00      0.90     16390\n",
      "     Delayed       0.00      0.00      0.00      3610\n",
      "\n",
      "    accuracy                           0.82     20000\n",
      "   macro avg       0.41      0.50      0.45     20000\n",
      "weighted avg       0.67      0.82      0.74     20000\n",
      "\n",
      "\n",
      " Specificity: 1.0\n",
      "\n",
      " Sensitivity: 0.0\n"
     ]
    }
   ],
   "source": [
    "evaluate_model(clf, X_test, y_test)"
   ]
  },
  {
   "cell_type": "markdown",
   "id": "4d619fb9-5dda-4998-886c-ff7e04acd163",
   "metadata": {},
   "source": [
    "#### With SMOTE"
   ]
  },
  {
   "cell_type": "code",
   "execution_count": 68,
   "id": "ca9a497b-af1c-4510-af7f-152639a385bf",
   "metadata": {},
   "outputs": [],
   "source": [
    "smote = SMOTE()\n",
    "X_train, y_train = smote.fit_resample(X_train, y_train)"
   ]
  },
  {
   "cell_type": "code",
   "execution_count": 69,
   "id": "55c70f4c-f926-4951-af24-8c4ab63cb41e",
   "metadata": {},
   "outputs": [
    {
     "name": "stdout",
     "output_type": "stream",
     "text": [
      "[0, 1, 2, 3, 4, 5, 6]\n"
     ]
    }
   ],
   "source": [
    "cat_features = list(range(0, X_train.shape[1]-1))\n",
    "print(cat_features)"
   ]
  },
  {
   "cell_type": "code",
   "execution_count": 70,
   "id": "d9b051df-750e-440c-9b08-14fbd26cb82a",
   "metadata": {},
   "outputs": [
    {
     "name": "stdout",
     "output_type": "stream",
     "text": [
      "CatBoost model is fitted: True\n",
      "CatBoost model parameters:\n",
      "{'iterations': 20, 'learning_rate': 0.1}\n"
     ]
    }
   ],
   "source": [
    "clf = CatBoostClassifier(\n",
    "    iterations=20, \n",
    "    learning_rate=0.1, \n",
    "    #loss_function='MultiClass'\n",
    ")\n",
    "\n",
    "clf.fit(X_train, y_train, \n",
    "        cat_features=cat_features, \n",
    "        eval_set=(X_test, y_test), \n",
    "        verbose=False\n",
    ")\n",
    "\n",
    "print('CatBoost model is fitted: ' + str(clf.is_fitted()))\n",
    "print('CatBoost model parameters:')\n",
    "print(clf.get_params())"
   ]
  },
  {
   "cell_type": "code",
   "execution_count": 71,
   "id": "4db2e37d-da8a-4087-b776-b00cc8689136",
   "metadata": {},
   "outputs": [
    {
     "data": {
      "text/plain": [
       "array([[57191.,  8128.],\n",
       "       [24292., 41027.]])"
      ]
     },
     "execution_count": 71,
     "metadata": {},
     "output_type": "execute_result"
    }
   ],
   "source": [
    "pool_train = Pool(X_train, y_train, \n",
    "        cat_features=cat_features)\n",
    "get_confusion_matrix(clf, pool_train)"
   ]
  },
  {
   "cell_type": "code",
   "execution_count": 72,
   "id": "298fa6e5-456e-44b7-b740-c569a110b207",
   "metadata": {},
   "outputs": [
    {
     "name": "stdout",
     "output_type": "stream",
     "text": [
      "Test Accuracy: 74.36%\n"
     ]
    },
    {
     "data": {
      "image/png": "[encoded data removed]",
      "text/plain": [
       "<Figure size 576x576 with 1 Axes>"
      ]
     },
     "metadata": {
      "needs_background": "light"
     },
     "output_type": "display_data"
    },
    {
     "name": "stdout",
     "output_type": "stream",
     "text": [
      "Classification Report:\n",
      "----------------------\n",
      "               precision    recall  f1-score   support\n",
      "\n",
      " Not Delayed       0.82      0.88      0.85     16390\n",
      "     Delayed       0.20      0.14      0.17      3610\n",
      "\n",
      "    accuracy                           0.74     20000\n",
      "   macro avg       0.51      0.51      0.51     20000\n",
      "weighted avg       0.71      0.74      0.73     20000\n",
      "\n",
      "\n",
      " Specificity: 0.88\n",
      "\n",
      " Sensitivity: 0.14\n"
     ]
    }
   ],
   "source": [
    "evaluate_model(clf, X_test, y_test)"
   ]
  },
  {
   "cell_type": "markdown",
   "id": "b3023a94-948c-40a2-bee3-257cd7e44993",
   "metadata": {},
   "source": [
    "### With Departure Delay\n",
    "#### Without SMOTE"
   ]
  },
  {
   "cell_type": "code",
   "execution_count": 73,
   "id": "3b0a1937-8ee9-4ec5-9259-2e7bf7f5ed8d",
   "metadata": {},
   "outputs": [],
   "source": [
    "def preprocess_inputs_cat_4(df):\n",
    "    df = df.copy()\n",
    "    \n",
    "    y = (df.ArrDelay>15).astype(int)\n",
    "    \n",
    "    df['IATA_CODE_Reporting_Airline'] = df['IATA_CODE_Reporting_Airline'].astype('category')\n",
    "    df['IATA_CODE_Reporting_Airline'] = df['IATA_CODE_Reporting_Airline'].cat.codes\n",
    "    \n",
    "    df['OriginAirportID'] = df['OriginAirportID'].astype('category')\n",
    "    df['OriginAirportID'] = df['OriginAirportID'].cat.codes\n",
    "    \n",
    "    df['DestAirportID'] = df['DestAirportID'].astype('category')\n",
    "    df['DestAirportID'] = df['DestAirportID'].cat.codes\n",
    "    \n",
    "    df['Month'] = df['Month'].astype('category')\n",
    "    df['Month'] = df['Month'].cat.codes\n",
    "    \n",
    "    X = df[['Month',\n",
    "     'DayofMonth',\n",
    "     'DayOfWeek',\n",
    "     'IATA_CODE_Reporting_Airline',\n",
    "     'OriginAirportID',\n",
    "     'DestAirportID',\n",
    "     'AirTime',\n",
    "     'DepDelay']]\n",
    "    \n",
    "    \n",
    "    # Train-test split\n",
    "    X_train, X_test, y_train, y_test = train_test_split(X, y, train_size=0.8, random_state=42)\n",
    "    \n",
    "   \n",
    "    return X_train, X_test, y_train, y_test"
   ]
  },
  {
   "cell_type": "code",
   "execution_count": 74,
   "id": "40896f1d-75ea-4502-af6b-bf14f2f22ea7",
   "metadata": {},
   "outputs": [],
   "source": [
    "X_train, X_test, y_train, y_test = preprocess_inputs_cat_4(data)"
   ]
  },
  {
   "cell_type": "code",
   "execution_count": 75,
   "id": "ac4ad60c-e909-496f-b06a-e8fbe368c2d5",
   "metadata": {},
   "outputs": [
    {
     "name": "stdout",
     "output_type": "stream",
     "text": [
      "[0, 1, 2, 3, 4, 5]\n"
     ]
    }
   ],
   "source": [
    "cat_features = list(range(0, X_train.shape[1]-2))\n",
    "print(cat_features)"
   ]
  },
  {
   "cell_type": "code",
   "execution_count": 76,
   "id": "32fb84ae-109e-4bfc-83e3-5db350d4e815",
   "metadata": {},
   "outputs": [
    {
     "name": "stdout",
     "output_type": "stream",
     "text": [
      "CatBoost model is fitted: True\n",
      "CatBoost model parameters:\n",
      "{'iterations': 20, 'learning_rate': 0.1}\n"
     ]
    }
   ],
   "source": [
    "clf = CatBoostClassifier(\n",
    "    iterations=20, \n",
    "    learning_rate=0.1, \n",
    "    #loss_function='MultiClass'\n",
    ")\n",
    "\n",
    "clf.fit(X_train, y_train, \n",
    "        cat_features=cat_features, \n",
    "        eval_set=(X_test, y_test), \n",
    "        verbose=False\n",
    ")\n",
    "\n",
    "print('CatBoost model is fitted: ' + str(clf.is_fitted()))\n",
    "print('CatBoost model parameters:')\n",
    "print(clf.get_params())"
   ]
  },
  {
   "cell_type": "code",
   "execution_count": 77,
   "id": "8f83551c-d059-48df-a7b2-47c5db362a4f",
   "metadata": {},
   "outputs": [
    {
     "data": {
      "text/plain": [
       "array([[64091.,  1228.],\n",
       "       [ 4098., 10583.]])"
      ]
     },
     "execution_count": 77,
     "metadata": {},
     "output_type": "execute_result"
    }
   ],
   "source": [
    "pool_train = Pool(X_train, y_train, \n",
    "        cat_features=cat_features)\n",
    "get_confusion_matrix(clf, pool_train)"
   ]
  },
  {
   "cell_type": "code",
   "execution_count": 78,
   "id": "01d75260-9279-43fd-8698-c6ddd839f9f9",
   "metadata": {},
   "outputs": [
    {
     "name": "stdout",
     "output_type": "stream",
     "text": [
      "Test Accuracy: 93.48%\n"
     ]
    },
    {
     "data": {
      "image/png": "[encoded data removed]",
      "text/plain": [
       "<Figure size 576x576 with 1 Axes>"
      ]
     },
     "metadata": {
      "needs_background": "light"
     },
     "output_type": "display_data"
    },
    {
     "name": "stdout",
     "output_type": "stream",
     "text": [
      "Classification Report:\n",
      "----------------------\n",
      "               precision    recall  f1-score   support\n",
      "\n",
      " Not Delayed       0.94      0.98      0.96     16390\n",
      "     Delayed       0.89      0.73      0.80      3610\n",
      "\n",
      "    accuracy                           0.93     20000\n",
      "   macro avg       0.92      0.85      0.88     20000\n",
      "weighted avg       0.93      0.93      0.93     20000\n",
      "\n",
      "\n",
      " Specificity: 0.98\n",
      "\n",
      " Sensitivity: 0.73\n"
     ]
    }
   ],
   "source": [
    "evaluate_model(clf, X_test, y_test)"
   ]
  },
  {
   "cell_type": "markdown",
   "id": "b7b7616f-48e6-44a9-ac0d-dcd219ff03fb",
   "metadata": {},
   "source": [
    "#### With SMOTE"
   ]
  },
  {
   "cell_type": "code",
   "execution_count": 79,
   "id": "47cd3bc4-5ad1-4416-a04e-407cb56e2a2e",
   "metadata": {},
   "outputs": [],
   "source": [
    "smote = SMOTE()\n",
    "X_train, y_train = smote.fit_resample(X_train, y_train)"
   ]
  },
  {
   "cell_type": "code",
   "execution_count": 80,
   "id": "628e227e-c0c8-4ef7-a5c2-1e9dcfda7586",
   "metadata": {},
   "outputs": [
    {
     "name": "stdout",
     "output_type": "stream",
     "text": [
      "[0, 1, 2, 3, 4, 5]\n"
     ]
    }
   ],
   "source": [
    "cat_features = list(range(0, X_train.shape[1]-2))\n",
    "print(cat_features)"
   ]
  },
  {
   "cell_type": "code",
   "execution_count": 81,
   "id": "2c80fe7d-8c8f-4bc2-bd65-205cf067301f",
   "metadata": {},
   "outputs": [
    {
     "name": "stdout",
     "output_type": "stream",
     "text": [
      "CatBoost model is fitted: True\n",
      "CatBoost model parameters:\n",
      "{'iterations': 20, 'learning_rate': 0.1}\n"
     ]
    }
   ],
   "source": [
    "clf = CatBoostClassifier(\n",
    "    iterations=20, \n",
    "    learning_rate=0.1, \n",
    "    #loss_function='MultiClass'\n",
    ")\n",
    "\n",
    "clf.fit(X_train, y_train, \n",
    "        cat_features=cat_features, \n",
    "        eval_set=(X_test, y_test), \n",
    "        verbose=False\n",
    ")\n",
    "\n",
    "print('CatBoost model is fitted: ' + str(clf.is_fitted()))\n",
    "print('CatBoost model parameters:')\n",
    "print(clf.get_params())"
   ]
  },
  {
   "cell_type": "code",
   "execution_count": 82,
   "id": "7362a10f-b9d9-4f67-b836-f51125e07517",
   "metadata": {},
   "outputs": [
    {
     "data": {
      "text/plain": [
       "array([[61027.,  4292.],\n",
       "       [10957., 54362.]])"
      ]
     },
     "execution_count": 82,
     "metadata": {},
     "output_type": "execute_result"
    }
   ],
   "source": [
    "pool_train = Pool(X_train, y_train, \n",
    "        cat_features=cat_features)\n",
    "get_confusion_matrix(clf, pool_train)"
   ]
  },
  {
   "cell_type": "code",
   "execution_count": 83,
   "id": "98c072a3-eac9-42e0-acd8-8285e26c92d6",
   "metadata": {},
   "outputs": [
    {
     "name": "stdout",
     "output_type": "stream",
     "text": [
      "Test Accuracy: 91.19%\n"
     ]
    },
    {
     "data": {
      "image/png": "[encoded data removed]",
      "text/plain": [
       "<Figure size 576x576 with 1 Axes>"
      ]
     },
     "metadata": {
      "needs_background": "light"
     },
     "output_type": "display_data"
    },
    {
     "name": "stdout",
     "output_type": "stream",
     "text": [
      "Classification Report:\n",
      "----------------------\n",
      "               precision    recall  f1-score   support\n",
      "\n",
      " Not Delayed       0.96      0.93      0.95     16390\n",
      "     Delayed       0.73      0.81      0.77      3610\n",
      "\n",
      "    accuracy                           0.91     20000\n",
      "   macro avg       0.84      0.87      0.86     20000\n",
      "weighted avg       0.92      0.91      0.91     20000\n",
      "\n",
      "\n",
      " Specificity: 0.93\n",
      "\n",
      " Sensitivity: 0.81\n"
     ]
    }
   ],
   "source": [
    "evaluate_model(clf, X_test, y_test)"
   ]
  }
 ],
 "metadata": {
  "kernelspec": {
   "display_name": "Python 3",
   "language": "python",
   "name": "python3"
  },
  "language_info": {
   "codemirror_mode": {
    "name": "ipython",
    "version": 3
   },
   "file_extension": ".py",
   "mimetype": "text/x-python",
   "name": "python",
   "nbconvert_exporter": "python",
   "pygments_lexer": "ipython3",
   "version": "3.8.8"
  }
 },
 "nbformat": 4,
 "nbformat_minor": 5
}
